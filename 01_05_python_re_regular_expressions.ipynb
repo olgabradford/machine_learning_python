{
 "cells": [
  {
   "cell_type": "markdown",
   "metadata": {},
   "source": [
    "# Regular expressions -re\n",
    "The ‘re’ package provides multiple methods to perform queries on an input string. Here are the most commonly used methods:\n",
    "re.match()\n",
    "re.search()\n",
    "re.findall()\n",
    "re.split()\n",
    "re.sub()\n",
    "re.compile()\n",
    "\n",
    "<b>re.match(pattern, string): </b>\n",
    "This method finds match if it occurs at start of the string. For example, calling match() on the string ‘SM Something inside SM’ and looking for a pattern ‘SM’ will match. However, if we look for only Somethibg, the pattern will not match. Let’s perform it in python now.\n"
   ]
  },
  {
   "cell_type": "code",
   "execution_count": 2,
   "metadata": {},
   "outputs": [
    {
     "name": "stdout",
     "output_type": "stream",
     "text": [
      "<_sre.SRE_Match object; span=(0, 2), match='SM'>\n"
     ]
    }
   ],
   "source": [
    "import re\n",
    "result = re.match(r'SM', 'SM Something inside SM   SM')\n",
    "print (result)"
   ]
  },
  {
   "cell_type": "code",
   "execution_count": 3,
   "metadata": {},
   "outputs": [
    {
     "name": "stdout",
     "output_type": "stream",
     "text": [
      "SM\n"
     ]
    }
   ],
   "source": [
    "print(result.group(0))"
   ]
  },
  {
   "cell_type": "code",
   "execution_count": 4,
   "metadata": {},
   "outputs": [
    {
     "name": "stdout",
     "output_type": "stream",
     "text": [
      "None\n"
     ]
    }
   ],
   "source": [
    "result = re.match(r'Something', 'SM Something inside SM   SM')\n",
    "print (result)"
   ]
  },
  {
   "cell_type": "markdown",
   "metadata": {},
   "source": [
    "<b>re.search(pattern,string)</b>  - returns first occurance"
   ]
  },
  {
   "cell_type": "code",
   "execution_count": 8,
   "metadata": {},
   "outputs": [
    {
     "name": "stdout",
     "output_type": "stream",
     "text": [
      "inside\n"
     ]
    }
   ],
   "source": [
    "result = re.search(r'inside', 'SM Something inside SM   SM')\n",
    "print(result.group(0))"
   ]
  },
  {
   "cell_type": "markdown",
   "metadata": {},
   "source": [
    "<b>re.findall(pattern,string)</b>  - returns all"
   ]
  },
  {
   "cell_type": "code",
   "execution_count": 9,
   "metadata": {},
   "outputs": [
    {
     "name": "stdout",
     "output_type": "stream",
     "text": [
      "['SM', 'SM', 'SM']\n"
     ]
    }
   ],
   "source": [
    "result = re.findall(r'SM', 'SM Something inside SM   SM')\n",
    "print(result)"
   ]
  },
  {
   "cell_type": "markdown",
   "metadata": {},
   "source": [
    "<b>re.split(pattern,string, [maxsplit=0]):</b>  - split string by the occurences  of a given pattern"
   ]
  },
  {
   "cell_type": "code",
   "execution_count": 10,
   "metadata": {},
   "outputs": [
    {
     "data": {
      "text/plain": [
       "['Some', 'hing']"
      ]
     },
     "execution_count": 10,
     "metadata": {},
     "output_type": "execute_result"
    }
   ],
   "source": [
    "result = re.split(r't', 'Something')\n",
    "result"
   ]
  },
  {
   "cell_type": "code",
   "execution_count": 11,
   "metadata": {},
   "outputs": [
    {
     "data": {
      "text/plain": [
       "['Someth', 'ng ', 'ns', 'de']"
      ]
     },
     "execution_count": 11,
     "metadata": {},
     "output_type": "execute_result"
    }
   ],
   "source": [
    "result = re.split(r'i', 'Something inside')\n",
    "result"
   ]
  },
  {
   "cell_type": "code",
   "execution_count": 12,
   "metadata": {},
   "outputs": [
    {
     "data": {
      "text/plain": [
       "['Someth', 'ng inside']"
      ]
     },
     "execution_count": 12,
     "metadata": {},
     "output_type": "execute_result"
    }
   ],
   "source": [
    "result = re.split(r'i', 'Something inside', maxsplit=1)\n",
    "result"
   ]
  },
  {
   "cell_type": "markdown",
   "metadata": {},
   "source": [
    "<b>re.sub(pattern, repl, string):</b>  It helps to search a pattern and replace with a new sub string. If the pattern is not found, string is returned unchanged."
   ]
  },
  {
   "cell_type": "code",
   "execution_count": 13,
   "metadata": {},
   "outputs": [
    {
     "data": {
      "text/plain": [
       "'AU is largest Analytics community in the World'"
      ]
     },
     "execution_count": 13,
     "metadata": {},
     "output_type": "execute_result"
    }
   ],
   "source": [
    "result=re.sub(r'Australia','the World','AU is largest Analytics community in Australia')\n",
    "result"
   ]
  },
  {
   "cell_type": "markdown",
   "metadata": {},
   "source": [
    "<b>re.compile(pattern, repl, string):</b>"
   ]
  },
  {
   "cell_type": "code",
   "execution_count": 14,
   "metadata": {},
   "outputs": [
    {
     "name": "stdout",
     "output_type": "stream",
     "text": [
      "['AU', 'AU']\n",
      "['AU']\n"
     ]
    }
   ],
   "source": [
    "import re\n",
    "pattern=re.compile('AU')\n",
    "result=pattern.findall('AU Analytics Something AU')\n",
    "print(result)\n",
    "result2=pattern.findall('AU is largest analytics community in Australia')\n",
    "print(result2)"
   ]
  },
  {
   "cell_type": "markdown",
   "metadata": {},
   "source": [
    "## Problem 1: Return the first word of a given string\n",
    "Solution-1  Extract each character (using “\\w“)"
   ]
  },
  {
   "cell_type": "code",
   "execution_count": 15,
   "metadata": {},
   "outputs": [
    {
     "name": "stdout",
     "output_type": "stream",
     "text": [
      "['A', 'U', ' ', 'i', 's', ' ', 'l', 'a', 'r', 'g', 'e', 's', 't', ' ', 'a', 'n', 'a', 'l', 'y', 't', 'i', 'c', 's', ' ', 'c', 'o', 'm', 'm', 'u', 'n', 'i', 't', 'y', ' ', 'i', 'n', ' ', 'A', 'u', 's', 't', 'r', 'a', 'l', 'i', 'a']\n"
     ]
    }
   ],
   "source": [
    "import re\n",
    "result=re.findall(r'.','AU is largest analytics community in Australia')\n",
    "print(result)"
   ]
  },
  {
   "cell_type": "code",
   "execution_count": 17,
   "metadata": {},
   "outputs": [
    {
     "name": "stdout",
     "output_type": "stream",
     "text": [
      "['A', 'U', 'i', 's', 'l', 'a', 'r', 'g', 'e', 's', 't', 'a', 'n', 'a', 'l', 'y', 't', 'i', 'c', 's', 'c', 'o', 'm', 'm', 'u', 'n', 'i', 't', 'y', 'i', 'n', 'A', 'u', 's', 't', 'r', 'a', 'l', 'i', 'a']\n"
     ]
    }
   ],
   "source": [
    "result=re.findall(result=re.findall(r'\\w','AU is largest analytics community in Australia')\n",
    "print(result)"
   ]
  },
  {
   "cell_type": "markdown",
   "metadata": {},
   "source": [
    "Solution-2  Extract each word (using “*” or “+“)"
   ]
  },
  {
   "cell_type": "code",
   "execution_count": 19,
   "metadata": {},
   "outputs": [
    {
     "name": "stdout",
     "output_type": "stream",
     "text": [
      "['AU', '', 'is', '', 'largest', '', 'analytics', '', 'community', '', 'in', '', 'Australia', '']\n"
     ]
    }
   ],
   "source": [
    "result=re.findall(r'\\w*','AU is largest analytics community in Australia')\n",
    "print(result)"
   ]
  },
  {
   "cell_type": "markdown",
   "metadata": {},
   "source": [
    "Again, it is returning space as a word because “*” returns zero or more matches of pattern to its left. Now to remove spaces we will go with “+“."
   ]
  },
  {
   "cell_type": "code",
   "execution_count": 20,
   "metadata": {},
   "outputs": [
    {
     "name": "stdout",
     "output_type": "stream",
     "text": [
      "['AU', 'is', 'largest', 'analytics', 'community', 'in', 'Australia']\n"
     ]
    }
   ],
   "source": [
    "result=re.findall(r'\\w+','AU is largest analytics community in Australia')\n",
    "print(result)"
   ]
  },
  {
   "cell_type": "markdown",
   "metadata": {},
   "source": [
    "Solution-3 Extract each word (using “^“)"
   ]
  },
  {
   "cell_type": "code",
   "execution_count": 21,
   "metadata": {},
   "outputs": [
    {
     "name": "stdout",
     "output_type": "stream",
     "text": [
      "['AU']\n"
     ]
    }
   ],
   "source": [
    "result=re.findall(r'^\\w+','AU is largest analytics community in Australia')\n",
    "print(result)"
   ]
  },
  {
   "cell_type": "code",
   "execution_count": 23,
   "metadata": {},
   "outputs": [
    {
     "name": "stdout",
     "output_type": "stream",
     "text": [
      "['Australia']\n"
     ]
    }
   ],
   "source": [
    "result=re.findall(r'\\w+$','AU is largest analytics community in Australia')\n",
    "print(result)"
   ]
  },
  {
   "cell_type": "markdown",
   "metadata": {},
   "source": [
    "## Problem 2: Return the first two character of each word\n",
    "Solution-1  Extract consecutive two characters of each word, excluding spaces (using “\\w“)"
   ]
  },
  {
   "cell_type": "code",
   "execution_count": 24,
   "metadata": {},
   "outputs": [
    {
     "name": "stdout",
     "output_type": "stream",
     "text": [
      "['AU', 'is', 'la', 'rg', 'es', 'an', 'al', 'yt', 'ic', 'co', 'mm', 'un', 'it', 'in', 'Au', 'st', 'ra', 'li']\n"
     ]
    }
   ],
   "source": [
    "result=re.findall(r'\\w\\w','AU is largest analytics community in Australia')\n",
    "print(result)"
   ]
  },
  {
   "cell_type": "markdown",
   "metadata": {},
   "source": [
    "Solution-2  Extract consecutive two characters those available at start of word boundary (using “\\b“)"
   ]
  },
  {
   "cell_type": "code",
   "execution_count": 25,
   "metadata": {},
   "outputs": [
    {
     "name": "stdout",
     "output_type": "stream",
     "text": [
      "['A', 'i', 'l', 'a', 'c', 'i', 'A']\n"
     ]
    }
   ],
   "source": [
    "result=re.findall(r'\\b\\w','AU is largest analytics community in Australia')\n",
    "print(result)"
   ]
  },
  {
   "cell_type": "markdown",
   "metadata": {},
   "source": [
    "## Problem 3: Return the domain type of given email-ids\n",
    "To explain it in simple manner, I will again go with a stepwise approach:\n",
    "\n",
    "Solution-1  Extract all characters after “@”"
   ]
  },
  {
   "cell_type": "code",
   "execution_count": 27,
   "metadata": {},
   "outputs": [
    {
     "name": "stdout",
     "output_type": "stream",
     "text": [
      "['@gmail', '@test', '@email', '@rest']\n"
     ]
    }
   ],
   "source": [
    "result=re.findall(r'@\\w+','abc.test@gmail.com, xyz@test.in, myemait@email.com, first.test@rest.biz') \n",
    "print (result) "
   ]
  },
  {
   "cell_type": "markdown",
   "metadata": {},
   "source": [
    "Above, you can see that “.com”, “.in” part is not extracted. To add it, we will go with below code."
   ]
  },
  {
   "cell_type": "code",
   "execution_count": 28,
   "metadata": {},
   "outputs": [
    {
     "name": "stdout",
     "output_type": "stream",
     "text": [
      "['@gmail.com', '@test.in', '@email.com', '@rest.biz']\n"
     ]
    }
   ],
   "source": [
    "result=re.findall(r'@\\w+.\\w+','abc.test@gmail.com, xyz@test.in, myemait@email.com, first.test@rest.biz') \n",
    "print (result) "
   ]
  },
  {
   "cell_type": "markdown",
   "metadata": {},
   "source": [
    "Solution – 2 Extract only domain name using “( )”"
   ]
  },
  {
   "cell_type": "code",
   "execution_count": 29,
   "metadata": {},
   "outputs": [
    {
     "name": "stdout",
     "output_type": "stream",
     "text": [
      "['com', 'in', 'com', 'biz']\n"
     ]
    }
   ],
   "source": [
    "result=re.findall(r'@\\w+.(\\w+)','abc.test@gmail.com, xyz@test.in, myemait@email.com, first.test@rest.biz') \n",
    "print (result) "
   ]
  },
  {
   "cell_type": "markdown",
   "metadata": {},
   "source": [
    "## Problem 4: Return date from given string\n",
    "Here we will use “\\d” to extract digit."
   ]
  },
  {
   "cell_type": "code",
   "execution_count": 30,
   "metadata": {},
   "outputs": [
    {
     "name": "stdout",
     "output_type": "stream",
     "text": [
      "['12-05-2007', '11-11-2011', '12-01-2009']\n"
     ]
    }
   ],
   "source": [
    "result=re.findall(r'\\d{2}-\\d{2}-\\d{4}','Amit 34-3456 12-05-2007, XYZ 56-4532 11-11-2011, ABC 67-8945 12-01-2009')\n",
    "print(result)"
   ]
  },
  {
   "cell_type": "markdown",
   "metadata": {},
   "source": [
    "extract only year add ()"
   ]
  },
  {
   "cell_type": "code",
   "execution_count": 31,
   "metadata": {},
   "outputs": [
    {
     "name": "stdout",
     "output_type": "stream",
     "text": [
      "['2007', '2011', '2009']\n"
     ]
    }
   ],
   "source": [
    "result=re.findall(r'\\d{2}-\\d{2}-(\\d{4})','Amit 34-3456 12-05-2007, XYZ 56-4532 11-11-2011, ABC 67-8945 12-01-2009')\n",
    "print(result)"
   ]
  },
  {
   "cell_type": "markdown",
   "metadata": {},
   "source": [
    "## Problem 5: Return all words of a string those starts with vowel\n",
    "Solution-1  Return each words"
   ]
  },
  {
   "cell_type": "code",
   "execution_count": 35,
   "metadata": {},
   "outputs": [
    {
     "name": "stdout",
     "output_type": "stream",
     "text": [
      "['AU', 'is', 'largest', 'analytics', 'community', 'in', 'Australia']\n"
     ]
    }
   ],
   "source": [
    "result=re.findall(r'\\w+','AU is largest analytics community in Australia')\n",
    "print(result)"
   ]
  },
  {
   "cell_type": "markdown",
   "metadata": {},
   "source": [
    "Solution-2  Return words starts with alphabets (using [])"
   ]
  },
  {
   "cell_type": "code",
   "execution_count": 36,
   "metadata": {},
   "outputs": [
    {
     "name": "stdout",
     "output_type": "stream",
     "text": [
      "['AU', 'is', 'argest', 'analytics', 'ommunity', 'in', 'Australia']\n"
     ]
    }
   ],
   "source": [
    "result=re.findall(r'[aeiouAEIOU]\\w+','AU is largest analytics community in Australia')\n",
    "print(result)"
   ]
  },
  {
   "cell_type": "markdown",
   "metadata": {},
   "source": [
    "Above you can see that it has returned “argest” and “ommunity” from the mid of words. To drop these two, we need to use “\\b” for word boundary.\n",
    "Solution- 3"
   ]
  },
  {
   "cell_type": "code",
   "execution_count": 37,
   "metadata": {},
   "outputs": [
    {
     "name": "stdout",
     "output_type": "stream",
     "text": [
      "['AU', 'is', 'analytics', 'in', 'Australia']\n"
     ]
    }
   ],
   "source": [
    "result=re.findall(r'\\b[aeiouAEIOU]\\w+','AU is largest analytics community in Australia')\n",
    "print(result)"
   ]
  },
  {
   "cell_type": "markdown",
   "metadata": {},
   "source": [
    "In similar ways, we can extract words those starts with constant using “^” within square bracket."
   ]
  },
  {
   "cell_type": "code",
   "execution_count": 38,
   "metadata": {},
   "outputs": [
    {
     "name": "stdout",
     "output_type": "stream",
     "text": [
      "[' is', ' largest', ' analytics', ' community', ' in', ' Australia']\n"
     ]
    }
   ],
   "source": [
    "result=re.findall(r'\\b[^aeiouAEIOU]\\w+','AU is largest analytics community in Australia')\n",
    "print(result)"
   ]
  },
  {
   "cell_type": "markdown",
   "metadata": {},
   "source": [
    "## Problem 6: Validate a phone number (phone number must be of 10 digits and starts with 8 or 9) \n",
    "We have a list phone numbers in list “li” and here we will validate phone numbers using regular"
   ]
  },
  {
   "cell_type": "code",
   "execution_count": 39,
   "metadata": {},
   "outputs": [
    {
     "name": "stdout",
     "output_type": "stream",
     "text": [
      "yes\n",
      "no\n",
      "no\n"
     ]
    }
   ],
   "source": [
    "import re\n",
    "li=['9999999999','999999-999','99999x9999']\n",
    "for val in li:\n",
    "    if re.match(r'[8-9]{1}[0-9]{9}',val) and len(val) == 10:\n",
    "        print ('yes')\n",
    "    else:\n",
    "        print ('no')"
   ]
  },
  {
   "cell_type": "markdown",
   "metadata": {},
   "source": [
    "## Problem 7: Split a string with multiple delimiters"
   ]
  },
  {
   "cell_type": "code",
   "execution_count": 40,
   "metadata": {},
   "outputs": [
    {
     "name": "stdout",
     "output_type": "stream",
     "text": [
      "['asdf', 'fjdk', 'afed', 'fjek', 'asdf', 'foo']\n"
     ]
    }
   ],
   "source": [
    "import re\n",
    "line = 'asdf fjdk;afed,fjek,asdf,foo' # String has multiple delimiters (\";\",\",\",\" \").\n",
    "result= re.split(r'[;,\\s]', line)\n",
    "print(result)"
   ]
  },
  {
   "cell_type": "markdown",
   "metadata": {},
   "source": [
    "or use re.sub instead\n"
   ]
  },
  {
   "cell_type": "code",
   "execution_count": 41,
   "metadata": {},
   "outputs": [
    {
     "name": "stdout",
     "output_type": "stream",
     "text": [
      "asdf fjdk afed fjek asdf foo\n"
     ]
    }
   ],
   "source": [
    "import re\n",
    "line = 'asdf fjdk;afed,fjek,asdf,foo'\n",
    "result= re.sub(r'[;,\\s]',' ', line)\n",
    "print(result)"
   ]
  },
  {
   "cell_type": "markdown",
   "metadata": {},
   "source": [
    "## Problem 8: Retrieve Information from HTML file\n",
    "I want to extract information from a HTML file (see below sample data). Here we need to extract information available between <td> and </td> except the first numerical index. I have assumed here that below html code is stored in a string str.\n",
    "\n",
    "Sample HTML file (str)\n",
    "\n",
    "<tr align=\"center\"><td>1</td> <td>Noah</td> <td>Emma</td></tr>\n",
    "<tr align=\"center\"><td>2</td> <td>Liam</td> <td>Olivia</td></tr>\n",
    "<tr align=\"center\"><td>3</td> <td>Mason</td> <td>Sophia</td></tr>\n",
    "<tr align=\"center\"><td>4</td> <td>Jacob</td> <td>Isabella</td></tr>\n",
    "<tr align=\"center\"><td>5</td> <td>William</td> <td>Ava</td></tr>\n",
    "<tr align=\"center\"><td>6</td> <td>Ethan</td> <td>Mia</td></tr>\n",
    "<tr align=\"center\"><td>7</td> <td HTML>Michael</td> <td>Emily</td></tr>"
   ]
  },
  {
   "cell_type": "code",
   "execution_count": 65,
   "metadata": {},
   "outputs": [
    {
     "name": "stdout",
     "output_type": "stream",
     "text": [
      "[('Noah', 'Emma'), ('Liam', 'Olivia'), ('Mason', 'Sophia'), ('Jacob', 'Isabella'), ('William', 'Ava'), ('Ethan', 'Mia')]\n"
     ]
    }
   ],
   "source": [
    "str = \"\"\"<tr align=\"center\"><td>1</td> <td>Noah</td> <td>Emma</td></tr>\n",
    "<tr align=\"center\"><td>2</td> <td>Liam</td> <td>Olivia</td></tr>\n",
    "<tr align=\"center\"><td>3</td> <td>Mason</td> <td>Sophia</td></tr>\n",
    "<tr align=\"center\"><td>4</td> <td>Jacob</td> <td>Isabella</td></tr>\n",
    "<tr align=\"center\"><td>5</td> <td>William</td> <td>Ava</td></tr>\n",
    "<tr align=\"center\"><td>6</td> <td>Ethan</td> <td>Mia</td></tr>\n",
    "<tr align=\"center\"><td>7</td> <td HTML>Michael</td> <td>Emily</td></tr>\n",
    "\"\"\"\n",
    "#import urllib.request\n",
    "#response = urllib.request.urlopen('https://trainings.analyticsvidhya.com/courses/course-v1:AnalyticsVidhya+BPDS001+2018_T2/courseware/4e12b8833d204ad5a10e7a39d2171d54/06a2d731c0ba40798687d6e234e5fbfc/?child=first')\n",
    "#str=response.read().decode('utf-8')\n",
    "#print(str)\n",
    "result=re.findall(r'<td>\\w+</td>\\s<td>(\\w+)</td>\\s<td>(\\w+)</td>',str)\n",
    "print(result)"
   ]
  },
  {
   "cell_type": "code",
   "execution_count": null,
   "metadata": {},
   "outputs": [],
   "source": []
  }
 ],
 "metadata": {
  "kernelspec": {
   "display_name": "Python [conda env:Anaconda3]",
   "language": "python",
   "name": "conda-env-Anaconda3-py"
  },
  "language_info": {
   "codemirror_mode": {
    "name": "ipython",
    "version": 3
   },
   "file_extension": ".py",
   "mimetype": "text/x-python",
   "name": "python",
   "nbconvert_exporter": "python",
   "pygments_lexer": "ipython3",
   "version": "3.6.1"
  }
 },
 "nbformat": 4,
 "nbformat_minor": 2
}
