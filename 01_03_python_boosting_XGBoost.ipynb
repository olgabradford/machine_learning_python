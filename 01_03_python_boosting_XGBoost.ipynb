{
 "cells": [
  {
   "cell_type": "markdown",
   "metadata": {},
   "source": [
    "# XGBoost\n",
    "XGBoost (eXtreme Gradient Boosting) is an advanced implementation of gradient boosting algorithm.\n",
    "http://xgboost.readthedocs.org/en/latest/parameter.html#general-parameters\n",
    "https://github.com/aarshayj/Analytics_Vidhya/blob/master/Articles/Parameter_Tuning_XGBoost_with_Example/XGBoost%20models.ipynb\n",
    "\n",
    "in R\n",
    "https://www.analyticsvidhya.com/blog/2016/01/xgboost-algorithm-easy-steps/"
   ]
  },
  {
   "cell_type": "markdown",
   "metadata": {},
   "source": [
    "<b>XGBoost (eXtreme Gradient Boosting)</b> is an advanced implementation of gradient boosting algorithm.\n",
    "https://xgboost.readthedocs.io/en/latest/tutorials/model.html\n"
   ]
  },
  {
   "cell_type": "code",
   "execution_count": null,
   "metadata": {},
   "outputs": [],
   "source": [
    "#!pip install xgboost"
   ]
  },
  {
   "cell_type": "code",
   "execution_count": 1,
   "metadata": {},
   "outputs": [
    {
     "name": "stderr",
     "output_type": "stream",
     "text": [
      "C:\\Users\\dave_\\Anaconda3\\lib\\site-packages\\sklearn\\cross_validation.py:44: DeprecationWarning: This module was deprecated in version 0.18 in favor of the model_selection module into which all the refactored classes and functions are moved. Also note that the interface of the new CV iterators are different from that of this module. This module will be removed in 0.20.\n",
      "  \"This module will be removed in 0.20.\", DeprecationWarning)\n",
      "C:\\Users\\dave_\\Anaconda3\\lib\\site-packages\\sklearn\\grid_search.py:43: DeprecationWarning: This module was deprecated in version 0.18 in favor of the model_selection module into which all the refactored classes and functions are moved. This module will be removed in 0.20.\n",
      "  DeprecationWarning)\n"
     ]
    }
   ],
   "source": [
    "#Import libraries:\n",
    "import pandas as pd\n",
    "import numpy as np\n",
    "import xgboost as xgb\n",
    "from xgboost.sklearn import XGBClassifier\n",
    "from sklearn import cross_validation, metrics   #Additional scklearn functions\n",
    "from sklearn.grid_search import GridSearchCV   #Perforing grid search\n",
    "\n",
    "import matplotlib.pylab as plt\n",
    "%matplotlib inline\n",
    "from matplotlib.pylab import rcParams\n",
    "rcParams['figure.figsize'] = 12, 4"
   ]
  },
  {
   "cell_type": "code",
   "execution_count": 2,
   "metadata": {},
   "outputs": [],
   "source": [
    "df = pd.read_csv(\"diabetes.csv\")"
   ]
  },
  {
   "cell_type": "code",
   "execution_count": 3,
   "metadata": {},
   "outputs": [
    {
     "data": {
      "text/html": [
       "<div>\n",
       "<style>\n",
       "    .dataframe thead tr:only-child th {\n",
       "        text-align: right;\n",
       "    }\n",
       "\n",
       "    .dataframe thead th {\n",
       "        text-align: left;\n",
       "    }\n",
       "\n",
       "    .dataframe tbody tr th {\n",
       "        vertical-align: top;\n",
       "    }\n",
       "</style>\n",
       "<table border=\"1\" class=\"dataframe\">\n",
       "  <thead>\n",
       "    <tr style=\"text-align: right;\">\n",
       "      <th></th>\n",
       "      <th>Pregnancies</th>\n",
       "      <th>Glucose</th>\n",
       "      <th>BloodPressure</th>\n",
       "      <th>SkinThickness</th>\n",
       "      <th>Insulin</th>\n",
       "      <th>BMI</th>\n",
       "      <th>DiabetesPedigreeFunction</th>\n",
       "      <th>Age</th>\n",
       "      <th>Outcome</th>\n",
       "    </tr>\n",
       "  </thead>\n",
       "  <tbody>\n",
       "    <tr>\n",
       "      <th>0</th>\n",
       "      <td>6</td>\n",
       "      <td>148</td>\n",
       "      <td>72</td>\n",
       "      <td>35</td>\n",
       "      <td>0</td>\n",
       "      <td>33.6</td>\n",
       "      <td>0.627</td>\n",
       "      <td>50</td>\n",
       "      <td>1</td>\n",
       "    </tr>\n",
       "    <tr>\n",
       "      <th>1</th>\n",
       "      <td>1</td>\n",
       "      <td>85</td>\n",
       "      <td>66</td>\n",
       "      <td>29</td>\n",
       "      <td>0</td>\n",
       "      <td>26.6</td>\n",
       "      <td>0.351</td>\n",
       "      <td>31</td>\n",
       "      <td>0</td>\n",
       "    </tr>\n",
       "    <tr>\n",
       "      <th>2</th>\n",
       "      <td>8</td>\n",
       "      <td>183</td>\n",
       "      <td>64</td>\n",
       "      <td>0</td>\n",
       "      <td>0</td>\n",
       "      <td>23.3</td>\n",
       "      <td>0.672</td>\n",
       "      <td>32</td>\n",
       "      <td>1</td>\n",
       "    </tr>\n",
       "  </tbody>\n",
       "</table>\n",
       "</div>"
      ],
      "text/plain": [
       "   Pregnancies  Glucose  BloodPressure  SkinThickness  Insulin   BMI  \\\n",
       "0            6      148             72             35        0  33.6   \n",
       "1            1       85             66             29        0  26.6   \n",
       "2            8      183             64              0        0  23.3   \n",
       "\n",
       "   DiabetesPedigreeFunction  Age  Outcome  \n",
       "0                     0.627   50        1  \n",
       "1                     0.351   31        0  \n",
       "2                     0.672   32        1  "
      ]
     },
     "execution_count": 3,
     "metadata": {},
     "output_type": "execute_result"
    }
   ],
   "source": [
    "df.head(3)"
   ]
  },
  {
   "cell_type": "code",
   "execution_count": 6,
   "metadata": {},
   "outputs": [
    {
     "data": {
      "text/plain": [
       "(768, 9)"
      ]
     },
     "execution_count": 6,
     "metadata": {},
     "output_type": "execute_result"
    }
   ],
   "source": [
    "df.shape"
   ]
  },
  {
   "cell_type": "code",
   "execution_count": 4,
   "metadata": {},
   "outputs": [],
   "source": [
    "y='Outcome' #dependent variable"
   ]
  },
  {
   "cell_type": "markdown",
   "metadata": {},
   "source": [
    "Before proceeding further, lets define a function which will help us create XGBoost models and perform cross-validation.<br>\n",
    "<br> The function will do the following: <br>\n",
    "1. fit the model <br>\n",
    "2. determine training accuracy<br>\n",
    "3. determine training AUC<br>\n",
    "4. determine testing AUC<br>\n",
    "5. perform CV is performCV is True<br>\n",
    "6. plot Feature Importance if printFeatureImportance is True<br>"
   ]
  },
  {
   "cell_type": "code",
   "execution_count": 5,
   "metadata": {},
   "outputs": [],
   "source": [
    "def modelfit(alg, dtrain, predictors, performCV=True, printFeatureImportance=True, cv_folds=5):\n",
    "    #Fit the algorithm on the data\n",
    "    alg.fit(dtrain[predictors], dtrain['Outcome'])\n",
    "        \n",
    "    #Predict training set:\n",
    "    dtrain_predictions = alg.predict(dtrain[predictors])\n",
    "    dtrain_predprob = alg.predict_proba(dtrain[predictors])[:,1]\n",
    "    \n",
    "    #Perform cross-validation:\n",
    "    if performCV:\n",
    "        cv_score = cross_validation.cross_val_score(alg, dtrain[predictors], dtrain['Outcome'], \n",
    "                                                    cv=cv_folds, scoring='roc_auc')\n",
    "    \n",
    "    #Print model report:\n",
    "    print(\"\\nModel Report\")\n",
    "    print(\"Accuracy : %.4g\" % metrics.accuracy_score(dtrain['Outcome'].values, dtrain_predictions))\n",
    "    print (\"AUC Score (Train): %f\" % metrics.roc_auc_score(dtrain['Outcome'], dtrain_predprob))\n",
    "    \n",
    "    if performCV:\n",
    "        print (\"CV Score : Mean - %.7g | Std - %.7g | Min - %.7g | Max - %.7g\" %  \\\n",
    "               (np.mean(cv_score),np.std(cv_score),np.min(cv_score),np.max(cv_score)))\n",
    "    \n",
    "        \n",
    "    #Print Feature Importance\n",
    "    if printFeatureImportance:\n",
    "        feat_imp = pd.Series(alg.feature_importances_, predictors).sort_values(ascending=False)\n",
    "        feat_imp.plot(kind='bar', title='Feature Importances')\n",
    "        plt.ylabel('Feature Importance Score')"
   ]
  },
  {
   "cell_type": "markdown",
   "metadata": {},
   "source": [
    "## XGBoost Parameters\n",
    "https://xgboost.readthedocs.io/en/latest/parameter.html\n",
    "The overall parameters have been divided into 3 categories by XGBoost authors:\n",
    "\n",
    "General Parameters: Guide the overall functioning\n",
    "Booster Parameters: Guide the individual booster (tree/regression) at each step\n",
    "Learning Task Parameters: Guide the optimization performed\n",
    "I will give analogies to GBM here and highly recommend to read this article to learn from the very basics.\n",
    "\n",
    "General Parameters\n",
    "These define the overall functionality of XGBoost.\n",
    "\n",
    "booster [default=gbtree]\n",
    "Select the type of model to run at each iteration. It has 2 options:\n",
    "gbtree: tree-based models\n",
    "gblinear: linear models\n",
    "silent [default=0]:\n",
    "Silent mode is activated is set to 1, i.e. no running messages will be printed.\n",
    "It’s generally good to keep it 0 as the messages might help in understanding the model.\n",
    "nthread [default to maximum number of threads available if not set]\n",
    "This is used for parallel processing and number of cores in the system should be entered\n",
    "If you wish to run on all cores, value should not be entered and algorithm will detect automatically\n",
    "There are 2 more parameters which are set automatically by XGBoost and you need not worry about them. Lets move on to Booster parameters.\n",
    "\n",
    " \n",
    "\n",
    "Booster Parameters\n",
    "Though there are 2 types of boosters, I’ll consider only tree booster here because it always outperforms the linear booster and thus the later is rarely used.\n",
    "\n",
    "eta [default=0.3]\n",
    "Analogous to learning rate in GBM\n",
    "Makes the model more robust by shrinking the weights on each step\n",
    "Typical final values to be used: 0.01-0.2\n",
    "min_child_weight [default=1]\n",
    "Defines the minimum sum of weights of all observations required in a child.\n",
    "This is similar to min_child_leaf in GBM but not exactly. This refers to min “sum of weights” of observations while GBM has min “number of observations”.\n",
    "Used to control over-fitting. Higher values prevent a model from learning relations which might be highly specific to the particular sample selected for a tree.\n",
    "Too high values can lead to under-fitting hence, it should be tuned using CV.\n",
    "max_depth [default=6]\n",
    "The maximum depth of a tree, same as GBM.\n",
    "Used to control over-fitting as higher depth will allow model to learn relations very specific to a particular sample.\n",
    "Should be tuned using CV.\n",
    "Typical values: 3-10\n",
    "max_leaf_nodes\n",
    "The maximum number of terminal nodes or leaves in a tree.\n",
    "Can be defined in place of max_depth. Since binary trees are created, a depth of ‘n’ would produce a maximum of 2^n leaves.\n",
    "If this is defined, GBM will ignore max_depth.\n",
    "gamma [default=0]\n",
    "A node is split only when the resulting split gives a positive reduction in the loss function. Gamma specifies the minimum loss reduction required to make a split.\n",
    "Makes the algorithm conservative. The values can vary depending on the loss function and should be tuned.\n",
    "max_delta_step [default=0]\n",
    "In maximum delta step we allow each tree’s weight estimation to be. If the value is set to 0, it means there is no constraint. If it is set to a positive value, it can help making the update step more conservative.\n",
    "Usually this parameter is not needed, but it might help in logistic regression when class is extremely imbalanced.\n",
    "This is generally not used but you can explore further if you wish.\n",
    "subsample [default=1]\n",
    "Same as the subsample of GBM. Denotes the fraction of observations to be randomly samples for each tree.\n",
    "Lower values make the algorithm more conservative and prevents overfitting but too small values might lead to under-fitting.\n",
    "Typical values: 0.5-1\n",
    "colsample_bytree [default=1]\n",
    "Similar to max_features in GBM. Denotes the fraction of columns to be randomly samples for each tree.\n",
    "Typical values: 0.5-1\n",
    "colsample_bylevel [default=1]\n",
    "Denotes the subsample ratio of columns for each split, in each level.\n",
    "I don’t use this often because subsample and colsample_bytree will do the job for you. but you can explore further if you feel so.\n",
    "lambda [default=1]\n",
    "L2 regularization term on weights (analogous to Ridge regression)\n",
    "This used to handle the regularization part of XGBoost. Though many data scientists don’t use it often, it should be explored to reduce overfitting.\n",
    "alpha [default=0]\n",
    "L1 regularization term on weight (analogous to Lasso regression)\n",
    "Can be used in case of very high dimensionality so that the algorithm runs faster when implemented\n",
    "scale_pos_weight [default=1]\n",
    "A value greater than 0 should be used in case of high class imbalance as it helps in faster convergence.\n",
    " \n",
    "\n",
    "Learning Task Parameters\n",
    "These parameters are used to define the optimization objective the metric to be calculated at each step.\n",
    "\n",
    "objective [default=reg:linear]\n",
    "This defines the loss function to be minimized. Mostly used values are:\n",
    "binary:logistic –logistic regression for binary classification, returns predicted probability (not class)\n",
    "multi:softmax –multiclass classification using the softmax objective, returns predicted class (not probabilities)\n",
    "you also need to set an additional num_class (number of classes) parameter defining the number of unique classes\n",
    "multi:softprob –same as softmax, but returns predicted probability of each data point belonging to each class.\n",
    "eval_metric [ default according to objective ]\n",
    "The metric to be used for validation data.\n",
    "The default values are rmse for regression and error for classification.\n",
    "Typical values are:\n",
    "rmse – root mean square error\n",
    "mae – mean absolute error\n",
    "logloss – negative log-likelihood\n",
    "error – Binary classification error rate (0.5 threshold)\n",
    "merror – Multiclass classification error rate\n",
    "mlogloss – Multiclass logloss\n",
    "auc: Area under the curve\n",
    "seed [default=0]\n",
    "The random number seed.\n",
    "Can be used for generating reproducible results and also for parameter tuning.\n",
    "\n",
    "\n",
    "\n",
    "## Step 1 Find the number of estimators for a high learning rate\n",
    "Please note that all the above are just initial estimates and will be tuned later. \n",
    "Lets take the default learning rate of 0.1 here and check the optimum number of trees using cv \n",
    "function of xgboost. The function defined above will do it for us."
   ]
  },
  {
   "cell_type": "code",
   "execution_count": 9,
   "metadata": {},
   "outputs": [
    {
     "name": "stdout",
     "output_type": "stream",
     "text": [
      "\n",
      "Model Report\n",
      "Accuracy : 1\n",
      "AUC Score (Train): 1.000000\n",
      "CV Score : Mean - 0.7927247 | Std - 0.02976924 | Min - 0.7624074 | Max - 0.8458491\n"
     ]
    },
    {
     "data": {
      "image/png": "[encoded data removed]",
      "text/plain": [
       "<matplotlib.figure.Figure at 0x2e1396860b8>"
      ]
     },
     "metadata": {},
     "output_type": "display_data"
    }
   ],
   "source": [
    "predictors = df.columns.values[:8]\n",
    "xgb1 = XGBClassifier(\n",
    "        learning_rate =0.1,\n",
    "        n_estimators=1000,\n",
    "        max_depth=5,\n",
    "        min_child_weight=1,\n",
    "        gamma=0,\n",
    "        subsample=0.8,\n",
    "        colsample_bytree=0.8,\n",
    "        objective= 'binary:logistic',\n",
    "        nthread=4,\n",
    "        scale_pos_weight=1,\n",
    "        seed=27)\n",
    "modelfit(xgb1, df, predictors)"
   ]
  },
  {
   "cell_type": "code",
   "execution_count": 10,
   "metadata": {},
   "outputs": [
    {
     "data": {
      "text/plain": [
       "GridSearchCV(cv=5, error_score='raise',\n",
       "       estimator=XGBClassifier(base_score=0.5, booster='gbtree', colsample_bylevel=1,\n",
       "       colsample_bytree=0.8, gamma=0, learning_rate=0.1, max_delta_step=0,\n",
       "       max_depth=5, min_child_weight=1, missing=None, n_estimators=140,\n",
       "       n_jobs=1, nthread=4, objective='binary:logistic', random_state=0,\n",
       "       reg_alpha=0, reg_lambda=1, scale_pos_weight=1, seed=27, silent=True,\n",
       "       subsample=0.8),\n",
       "       fit_params={}, iid=False, n_jobs=4,\n",
       "       param_grid={'max_depth': [3, 5, 7, 9], 'min_child_weight': [1, 3, 5]},\n",
       "       pre_dispatch='2*n_jobs', refit=True, scoring='roc_auc', verbose=0)"
      ]
     },
     "execution_count": 10,
     "metadata": {},
     "output_type": "execute_result"
    }
   ],
   "source": [
    "#Grid seach on subsample and max_features\n",
    "#Choose all predictors except target & IDcols\n",
    "param_test1 = {\n",
    "    'max_depth':list(range(3,10,2)),\n",
    "    'min_child_weight':list(range(1,6,2))\n",
    "}\n",
    "gsearch1 = GridSearchCV(estimator = XGBClassifier( learning_rate =0.1, n_estimators=140, max_depth=5,\n",
    "                                        min_child_weight=1, gamma=0, subsample=0.8, colsample_bytree=0.8,\n",
    "                                        objective= 'binary:logistic', nthread=4, scale_pos_weight=1, seed=27), \n",
    "                       param_grid = param_test1, scoring='roc_auc',n_jobs=4,iid=False, cv=5)\n",
    "gsearch1.fit(df[predictors],df['Outcome'])"
   ]
  },
  {
   "cell_type": "code",
   "execution_count": 11,
   "metadata": {},
   "outputs": [
    {
     "data": {
      "text/plain": [
       "([mean: 0.81794, std: 0.03594, params: {'max_depth': 3, 'min_child_weight': 1},\n",
       "  mean: 0.81568, std: 0.03327, params: {'max_depth': 3, 'min_child_weight': 3},\n",
       "  mean: 0.81898, std: 0.02897, params: {'max_depth': 3, 'min_child_weight': 5},\n",
       "  mean: 0.81651, std: 0.03287, params: {'max_depth': 5, 'min_child_weight': 1},\n",
       "  mean: 0.80710, std: 0.03295, params: {'max_depth': 5, 'min_child_weight': 3},\n",
       "  mean: 0.80880, std: 0.03280, params: {'max_depth': 5, 'min_child_weight': 5},\n",
       "  mean: 0.80816, std: 0.03264, params: {'max_depth': 7, 'min_child_weight': 1},\n",
       "  mean: 0.80662, std: 0.03047, params: {'max_depth': 7, 'min_child_weight': 3},\n",
       "  mean: 0.81251, std: 0.02693, params: {'max_depth': 7, 'min_child_weight': 5},\n",
       "  mean: 0.80687, std: 0.03349, params: {'max_depth': 9, 'min_child_weight': 1},\n",
       "  mean: 0.80812, std: 0.03152, params: {'max_depth': 9, 'min_child_weight': 3},\n",
       "  mean: 0.80784, std: 0.03327, params: {'max_depth': 9, 'min_child_weight': 5}],\n",
       " {'max_depth': 3, 'min_child_weight': 5},\n",
       " 0.8189818308874912)"
      ]
     },
     "execution_count": 11,
     "metadata": {},
     "output_type": "execute_result"
    }
   ],
   "source": [
    "\n",
    "gsearch1.grid_scores_, gsearch1.best_params_, gsearch1.best_score_"
   ]
  },
  {
   "cell_type": "markdown",
   "metadata": {},
   "source": [
    "Here, we have run 12 combinations with wider intervals between values. The ideal values are <b>3 for max_depth</b> and <b>5 for min_child_weight</b>. Lets go one step deeper and look for optimum values. We’ll search for values 1 above and below the optimum values because we took an interval of two."
   ]
  },
  {
   "cell_type": "code",
   "execution_count": 14,
   "metadata": {},
   "outputs": [
    {
     "data": {
      "text/plain": [
       "GridSearchCV(cv=5, error_score='raise',\n",
       "       estimator=XGBClassifier(base_score=0.5, booster='gbtree', colsample_bylevel=1,\n",
       "       colsample_bytree=0.8, gamma=0, learning_rate=0.1, max_delta_step=0,\n",
       "       max_depth=3, min_child_weight=5, missing=None, n_estimators=140,\n",
       "       n_jobs=1, nthread=4, objective='binary:logistic', random_state=0,\n",
       "       reg_alpha=0, reg_lambda=1, scale_pos_weight=1, seed=27, silent=True,\n",
       "       subsample=0.8),\n",
       "       fit_params={}, iid=False, n_jobs=4,\n",
       "       param_grid={'max_depth': [2, 3, 4], 'min_child_weight': [4, 5, 6]},\n",
       "       pre_dispatch='2*n_jobs', refit=True, scoring='roc_auc', verbose=0)"
      ]
     },
     "execution_count": 14,
     "metadata": {},
     "output_type": "execute_result"
    }
   ],
   "source": [
    "#Grid seach on subsample and max_features\n",
    "#Choose all predictors except target & IDcols\n",
    "param_test2 = {\n",
    "    'max_depth':[2,3,4],\n",
    "    'min_child_weight':[4,5,6]\n",
    "}\n",
    "gsearch2 = GridSearchCV(estimator = XGBClassifier( learning_rate=0.1, n_estimators=140, max_depth=3,\n",
    "                                        min_child_weight=5, gamma=0, subsample=0.8, colsample_bytree=0.8,\n",
    "                                        objective= 'binary:logistic', nthread=4, scale_pos_weight=1,seed=27), \n",
    "                       param_grid = param_test2, scoring='roc_auc',n_jobs=4,iid=False, cv=5)\n",
    "gsearch2.fit(df[predictors],df['Outcome'])"
   ]
  },
  {
   "cell_type": "code",
   "execution_count": 16,
   "metadata": {},
   "outputs": [
    {
     "data": {
      "text/plain": [
       "([mean: 0.82973, std: 0.03282, params: {'max_depth': 2, 'min_child_weight': 4},\n",
       "  mean: 0.83114, std: 0.03069, params: {'max_depth': 2, 'min_child_weight': 5},\n",
       "  mean: 0.83041, std: 0.02918, params: {'max_depth': 2, 'min_child_weight': 6},\n",
       "  mean: 0.81984, std: 0.03201, params: {'max_depth': 3, 'min_child_weight': 4},\n",
       "  mean: 0.81898, std: 0.02897, params: {'max_depth': 3, 'min_child_weight': 5},\n",
       "  mean: 0.81792, std: 0.03340, params: {'max_depth': 3, 'min_child_weight': 6},\n",
       "  mean: 0.80770, std: 0.03405, params: {'max_depth': 4, 'min_child_weight': 4},\n",
       "  mean: 0.81073, std: 0.03220, params: {'max_depth': 4, 'min_child_weight': 5},\n",
       "  mean: 0.81441, std: 0.02989, params: {'max_depth': 4, 'min_child_weight': 6}],\n",
       " {'max_depth': 2, 'min_child_weight': 5},\n",
       " 0.8311355695317959)"
      ]
     },
     "execution_count": 16,
     "metadata": {},
     "output_type": "execute_result"
    }
   ],
   "source": [
    "gsearch2.grid_scores_, gsearch2.best_params_, gsearch2.best_score_"
   ]
  },
  {
   "cell_type": "markdown",
   "metadata": {},
   "source": [
    "Here, we get the optimum values as <b> 2 for max_depth</b> and <b>5 for min_child_weight</b>. Note that as the model performance increases, it becomes exponentially difficult to achieve even marginal gains in performance. You would have noticed that here we got 5 as optimum value for min_child_weight but we haven’t tried values more than 5. We can do that as follow:"
   ]
  },
  {
   "cell_type": "code",
   "execution_count": 27,
   "metadata": {},
   "outputs": [
    {
     "data": {
      "text/plain": [
       "GridSearchCV(cv=5, error_score='raise',\n",
       "       estimator=XGBClassifier(base_score=0.5, booster='gbtree', colsample_bylevel=1,\n",
       "       colsample_bytree=0.8, gamma=0, learning_rate=0.1, max_delta_step=0,\n",
       "       max_depth=2, min_child_weight=5, missing=None, n_estimators=140,\n",
       "       n_jobs=1, nthread=4, objective='binary:logistic', random_state=0,\n",
       "       reg_alpha=0, reg_lambda=1, scale_pos_weight=1, seed=27, silent=True,\n",
       "       subsample=0.8),\n",
       "       fit_params={}, iid=False, n_jobs=4,\n",
       "       param_grid={'min_child_weight': [5, 6, 7, 8, 9, 10]},\n",
       "       pre_dispatch='2*n_jobs', refit=True, scoring='roc_auc', verbose=0)"
      ]
     },
     "execution_count": 27,
     "metadata": {},
     "output_type": "execute_result"
    }
   ],
   "source": [
    "param_test2b = {\n",
    "    'min_child_weight':[5,6,7,8,9,10]\n",
    "}\n",
    "gsearch2b = GridSearchCV(estimator = XGBClassifier( learning_rate=0.1, n_estimators=140, max_depth=2,\n",
    "                                        min_child_weight=5, gamma=0, subsample=0.8, colsample_bytree=0.8,\n",
    "                                        objective= 'binary:logistic', nthread=4, scale_pos_weight=1,seed=27), \n",
    "                       param_grid = param_test2b, scoring='roc_auc',n_jobs=4,iid=False, cv=5)\n",
    "gsearch2b.fit(df[predictors],df['Outcome'])"
   ]
  },
  {
   "cell_type": "code",
   "execution_count": 28,
   "metadata": {},
   "outputs": [
    {
     "data": {
      "text/plain": [
       "([mean: 0.83114, std: 0.03069, params: {'min_child_weight': 5},\n",
       "  mean: 0.83041, std: 0.02918, params: {'min_child_weight': 6},\n",
       "  mean: 0.83318, std: 0.03046, params: {'min_child_weight': 7},\n",
       "  mean: 0.83138, std: 0.03050, params: {'min_child_weight': 8},\n",
       "  mean: 0.83283, std: 0.03252, params: {'min_child_weight': 9},\n",
       "  mean: 0.83061, std: 0.03323, params: {'min_child_weight': 10}],\n",
       " {'min_child_weight': 7},\n",
       " 0.833178895877009)"
      ]
     },
     "execution_count": 28,
     "metadata": {},
     "output_type": "execute_result"
    }
   ],
   "source": [
    "gsearch2b.grid_scores_, gsearch2b.best_params_, gsearch2b.best_score_"
   ]
  },
  {
   "cell_type": "markdown",
   "metadata": {},
   "source": [
    "Now, we see that min_child_weight=7 is optimum value\n",
    "## Step 3: Tune gamma\n",
    "Now lets tune gamma value using the parameters already tuned above. Gamma can take various values but I’ll check for 5 values here. You can go into more precise values as."
   ]
  },
  {
   "cell_type": "code",
   "execution_count": 29,
   "metadata": {},
   "outputs": [
    {
     "data": {
      "text/plain": [
       "GridSearchCV(cv=5, error_score='raise',\n",
       "       estimator=XGBClassifier(base_score=0.5, booster='gbtree', colsample_bylevel=1,\n",
       "       colsample_bytree=0.8, gamma=0, learning_rate=0.1, max_delta_step=0,\n",
       "       max_depth=2, min_child_weight=7, missing=None, n_estimators=140,\n",
       "       n_jobs=1, nthread=4, objective='binary:logistic', random_state=0,\n",
       "       reg_alpha=0, reg_lambda=1, scale_pos_weight=1, seed=27, silent=True,\n",
       "       subsample=0.8),\n",
       "       fit_params={}, iid=False, n_jobs=4,\n",
       "       param_grid={'gamma': [0.0, 0.1, 0.2, 0.3, 0.4]},\n",
       "       pre_dispatch='2*n_jobs', refit=True, scoring='roc_auc', verbose=0)"
      ]
     },
     "execution_count": 29,
     "metadata": {},
     "output_type": "execute_result"
    }
   ],
   "source": [
    "param_test3 = {\n",
    " 'gamma':[i/10.0 for i in range(0,5)]\n",
    "}\n",
    "gsearch3 = GridSearchCV(estimator = XGBClassifier( learning_rate=0.1, n_estimators=140, max_depth=2,\n",
    "                                        min_child_weight=7, gamma=0, subsample=0.8, colsample_bytree=0.8,\n",
    "                                        objective= 'binary:logistic', nthread=4, scale_pos_weight=1,seed=27), \n",
    "                       param_grid = param_test3, scoring='roc_auc',n_jobs=4,iid=False, cv=5)\n",
    "gsearch3.fit(df[predictors],df['Outcome'])\n",
    "    "
   ]
  },
  {
   "cell_type": "code",
   "execution_count": 30,
   "metadata": {},
   "outputs": [
    {
     "data": {
      "text/plain": [
       "([mean: 0.83318, std: 0.03046, params: {'gamma': 0.0},\n",
       "  mean: 0.83318, std: 0.03003, params: {'gamma': 0.1},\n",
       "  mean: 0.83162, std: 0.03173, params: {'gamma': 0.2},\n",
       "  mean: 0.83121, std: 0.03155, params: {'gamma': 0.3},\n",
       "  mean: 0.83154, std: 0.03172, params: {'gamma': 0.4}],\n",
       " {'gamma': 0.0},\n",
       " 0.833178895877009)"
      ]
     },
     "execution_count": 30,
     "metadata": {},
     "output_type": "execute_result"
    }
   ],
   "source": [
    "gsearch3.grid_scores_, gsearch3.best_params_, gsearch3.best_score_"
   ]
  },
  {
   "cell_type": "markdown",
   "metadata": {},
   "source": [
    "This shows that our original value of gamma, i.e. <b>0 is the optimum one</b>. Before proceeding, a good idea would be to re-calibrate the number of boosting rounds for the updated parameters."
   ]
  },
  {
   "cell_type": "code",
   "execution_count": 47,
   "metadata": {},
   "outputs": [
    {
     "name": "stdout",
     "output_type": "stream",
     "text": [
      "\n",
      "Model Report\n",
      "Accuracy : 0.832\n",
      "AUC Score (Train): 0.909858\n",
      "CV Score : Mean - 0.8331789 | Std - 0.03045636 | Min - 0.7896296 | Max - 0.8811321\n"
     ]
    },
    {
     "data": {
      "image/png": "[encoded data removed]",
      "text/plain": [
       "<matplotlib.figure.Figure at 0x2e1399469e8>"
      ]
     },
     "metadata": {},
     "output_type": "display_data"
    }
   ],
   "source": [
    "xgb2 = XGBClassifier(\n",
    " learning_rate =0.1,\n",
    " n_estimators=140,\n",
    " max_depth=2,\n",
    " min_child_weight=7,\n",
    " gamma=0,\n",
    " subsample=0.8,\n",
    " colsample_bytree=0.8,\n",
    " objective= 'binary:logistic',\n",
    " nthread=4,\n",
    " scale_pos_weight=1,\n",
    " seed=27)\n",
    "modelfit(xgb2, df, predictors)"
   ]
  },
  {
   "cell_type": "markdown",
   "metadata": {},
   "source": [
    "Here, we can see the improvement in score. So the final parameters are:\n",
    "\n",
    "max_depth: 2\n",
    "min_child_weight: 7\n",
    "gamma: 0\n",
    "\n",
    "\n",
    "## Step 4: Tune subsample and colsample_bytree\n",
    "The next step would be try different subsample and colsample_bytree values. Lets do this in 2 stages as well and take values 0.6,0.7,0.8,0.9 for both to start with.\n",
    " "
   ]
  },
  {
   "cell_type": "code",
   "execution_count": 32,
   "metadata": {},
   "outputs": [
    {
     "data": {
      "text/plain": [
       "([mean: 0.83172, std: 0.03111, params: {'colsample_bytree': 0.6, 'subsample': 0.6},\n",
       "  mean: 0.83438, std: 0.02857, params: {'colsample_bytree': 0.6, 'subsample': 0.7},\n",
       "  mean: 0.83479, std: 0.03280, params: {'colsample_bytree': 0.6, 'subsample': 0.8},\n",
       "  mean: 0.83599, std: 0.02928, params: {'colsample_bytree': 0.6, 'subsample': 0.9},\n",
       "  mean: 0.83028, std: 0.03257, params: {'colsample_bytree': 0.7, 'subsample': 0.6},\n",
       "  mean: 0.83206, std: 0.03060, params: {'colsample_bytree': 0.7, 'subsample': 0.7},\n",
       "  mean: 0.83449, std: 0.03451, params: {'colsample_bytree': 0.7, 'subsample': 0.8},\n",
       "  mean: 0.83515, std: 0.03375, params: {'colsample_bytree': 0.7, 'subsample': 0.9},\n",
       "  mean: 0.83055, std: 0.03273, params: {'colsample_bytree': 0.8, 'subsample': 0.6},\n",
       "  mean: 0.83066, std: 0.03056, params: {'colsample_bytree': 0.8, 'subsample': 0.7},\n",
       "  mean: 0.83318, std: 0.03046, params: {'colsample_bytree': 0.8, 'subsample': 0.8},\n",
       "  mean: 0.83260, std: 0.03128, params: {'colsample_bytree': 0.8, 'subsample': 0.9},\n",
       "  mean: 0.82915, std: 0.03284, params: {'colsample_bytree': 0.9, 'subsample': 0.6},\n",
       "  mean: 0.82978, std: 0.03318, params: {'colsample_bytree': 0.9, 'subsample': 0.7},\n",
       "  mean: 0.82744, std: 0.03056, params: {'colsample_bytree': 0.9, 'subsample': 0.8},\n",
       "  mean: 0.83296, std: 0.02993, params: {'colsample_bytree': 0.9, 'subsample': 0.9}],\n",
       " {'colsample_bytree': 0.6, 'subsample': 0.9},\n",
       " 0.8359860237596086)"
      ]
     },
     "execution_count": 32,
     "metadata": {},
     "output_type": "execute_result"
    }
   ],
   "source": [
    "param_test4 = {\n",
    " 'subsample':[i/10.0 for i in range(6,10)],\n",
    " 'colsample_bytree':[i/10.0 for i in range(6,10)]\n",
    "}\n",
    "gsearch4 = GridSearchCV(estimator = XGBClassifier( learning_rate =0.1, n_estimators=140, max_depth=2,\n",
    " min_child_weight=7, gamma=0, subsample=0.8, colsample_bytree=0.8,\n",
    " objective= 'binary:logistic', nthread=4, scale_pos_weight=1,seed=27), \n",
    " param_grid = param_test4, scoring='roc_auc',n_jobs=4,iid=False, cv=5)\n",
    "gsearch4.fit(df[predictors],df['Outcome'])\n",
    "gsearch4.grid_scores_, gsearch4.best_params_, gsearch4.best_score_"
   ]
  },
  {
   "cell_type": "markdown",
   "metadata": {},
   "source": [
    "so the best parameters are\n",
    "{'colsample_bytree': 0.6, 'subsample': 0.9},\n",
    " 0.8359860237596086)\n",
    " Will try to tune this parameters further with 0.05 step\n",
    " "
   ]
  },
  {
   "cell_type": "code",
   "execution_count": 34,
   "metadata": {},
   "outputs": [
    {
     "data": {
      "text/plain": [
       "([mean: 0.83164, std: 0.02609, params: {'colsample_bytree': 0.2, 'subsample': 0.75},\n",
       "  mean: 0.82956, std: 0.02663, params: {'colsample_bytree': 0.2, 'subsample': 0.8},\n",
       "  mean: 0.83213, std: 0.02473, params: {'colsample_bytree': 0.2, 'subsample': 0.85},\n",
       "  mean: 0.83126, std: 0.02396, params: {'colsample_bytree': 0.2, 'subsample': 0.9},\n",
       "  mean: 0.82939, std: 0.02569, params: {'colsample_bytree': 0.2, 'subsample': 0.95},\n",
       "  mean: 0.83308, std: 0.02902, params: {'colsample_bytree': 0.25, 'subsample': 0.75},\n",
       "  mean: 0.83268, std: 0.02841, params: {'colsample_bytree': 0.25, 'subsample': 0.8},\n",
       "  mean: 0.83592, std: 0.02728, params: {'colsample_bytree': 0.25, 'subsample': 0.85},\n",
       "  mean: 0.83366, std: 0.02966, params: {'colsample_bytree': 0.25, 'subsample': 0.9},\n",
       "  mean: 0.83577, std: 0.02975, params: {'colsample_bytree': 0.25, 'subsample': 0.95},\n",
       "  mean: 0.83308, std: 0.02902, params: {'colsample_bytree': 0.3, 'subsample': 0.75},\n",
       "  mean: 0.83268, std: 0.02841, params: {'colsample_bytree': 0.3, 'subsample': 0.8},\n",
       "  mean: 0.83592, std: 0.02728, params: {'colsample_bytree': 0.3, 'subsample': 0.85},\n",
       "  mean: 0.83366, std: 0.02966, params: {'colsample_bytree': 0.3, 'subsample': 0.9},\n",
       "  mean: 0.83577, std: 0.02975, params: {'colsample_bytree': 0.3, 'subsample': 0.95},\n",
       "  mean: 0.83308, std: 0.02902, params: {'colsample_bytree': 0.35, 'subsample': 0.75},\n",
       "  mean: 0.83268, std: 0.02841, params: {'colsample_bytree': 0.35, 'subsample': 0.8},\n",
       "  mean: 0.83592, std: 0.02728, params: {'colsample_bytree': 0.35, 'subsample': 0.85},\n",
       "  mean: 0.83366, std: 0.02966, params: {'colsample_bytree': 0.35, 'subsample': 0.9},\n",
       "  mean: 0.83577, std: 0.02975, params: {'colsample_bytree': 0.35, 'subsample': 0.95},\n",
       "  mean: 0.83639, std: 0.02619, params: {'colsample_bytree': 0.4, 'subsample': 0.75},\n",
       "  mean: 0.83814, std: 0.02851, params: {'colsample_bytree': 0.4, 'subsample': 0.8},\n",
       "  mean: 0.83364, std: 0.03061, params: {'colsample_bytree': 0.4, 'subsample': 0.85},\n",
       "  mean: 0.83651, std: 0.03194, params: {'colsample_bytree': 0.4, 'subsample': 0.9},\n",
       "  mean: 0.83706, std: 0.03040, params: {'colsample_bytree': 0.4, 'subsample': 0.95},\n",
       "  mean: 0.83639, std: 0.02619, params: {'colsample_bytree': 0.45, 'subsample': 0.75},\n",
       "  mean: 0.83814, std: 0.02851, params: {'colsample_bytree': 0.45, 'subsample': 0.8},\n",
       "  mean: 0.83364, std: 0.03061, params: {'colsample_bytree': 0.45, 'subsample': 0.85},\n",
       "  mean: 0.83651, std: 0.03194, params: {'colsample_bytree': 0.45, 'subsample': 0.9},\n",
       "  mean: 0.83706, std: 0.03040, params: {'colsample_bytree': 0.45, 'subsample': 0.95},\n",
       "  mean: 0.83442, std: 0.02979, params: {'colsample_bytree': 0.5, 'subsample': 0.75},\n",
       "  mean: 0.83479, std: 0.03280, params: {'colsample_bytree': 0.5, 'subsample': 0.8},\n",
       "  mean: 0.83261, std: 0.03056, params: {'colsample_bytree': 0.5, 'subsample': 0.85},\n",
       "  mean: 0.83599, std: 0.02928, params: {'colsample_bytree': 0.5, 'subsample': 0.9},\n",
       "  mean: 0.83510, std: 0.03249, params: {'colsample_bytree': 0.5, 'subsample': 0.95},\n",
       "  mean: 0.83442, std: 0.02979, params: {'colsample_bytree': 0.55, 'subsample': 0.75},\n",
       "  mean: 0.83479, std: 0.03280, params: {'colsample_bytree': 0.55, 'subsample': 0.8},\n",
       "  mean: 0.83261, std: 0.03056, params: {'colsample_bytree': 0.55, 'subsample': 0.85},\n",
       "  mean: 0.83599, std: 0.02928, params: {'colsample_bytree': 0.55, 'subsample': 0.9},\n",
       "  mean: 0.83510, std: 0.03249, params: {'colsample_bytree': 0.55, 'subsample': 0.95},\n",
       "  mean: 0.83442, std: 0.02979, params: {'colsample_bytree': 0.6, 'subsample': 0.75},\n",
       "  mean: 0.83479, std: 0.03280, params: {'colsample_bytree': 0.6, 'subsample': 0.8},\n",
       "  mean: 0.83261, std: 0.03056, params: {'colsample_bytree': 0.6, 'subsample': 0.85},\n",
       "  mean: 0.83599, std: 0.02928, params: {'colsample_bytree': 0.6, 'subsample': 0.9},\n",
       "  mean: 0.83510, std: 0.03249, params: {'colsample_bytree': 0.6, 'subsample': 0.95},\n",
       "  mean: 0.83549, std: 0.02967, params: {'colsample_bytree': 0.65, 'subsample': 0.75},\n",
       "  mean: 0.83449, std: 0.03451, params: {'colsample_bytree': 0.65, 'subsample': 0.8},\n",
       "  mean: 0.83323, std: 0.03090, params: {'colsample_bytree': 0.65, 'subsample': 0.85},\n",
       "  mean: 0.83515, std: 0.03375, params: {'colsample_bytree': 0.65, 'subsample': 0.9},\n",
       "  mean: 0.83351, std: 0.03238, params: {'colsample_bytree': 0.65, 'subsample': 0.95}],\n",
       " {'colsample_bytree': 0.4, 'subsample': 0.8},\n",
       " 0.8381355695317959)"
      ]
     },
     "execution_count": 34,
     "metadata": {},
     "output_type": "execute_result"
    }
   ],
   "source": [
    "param_test5 = {\n",
    " 'subsample':[i/100.0 for i in range(75,100,5)],\n",
    " 'colsample_bytree':[i/100.0 for i in range(20,70,5)]\n",
    "}\n",
    "gsearch5 = GridSearchCV(estimator = XGBClassifier( learning_rate =0.1, n_estimators=140, max_depth=2,\n",
    " min_child_weight=7, gamma=0, subsample=0.8, colsample_bytree=0.8,\n",
    " objective= 'binary:logistic', nthread=4, scale_pos_weight=1,seed=27), \n",
    " param_grid = param_test5, scoring='roc_auc',n_jobs=4,iid=False, cv=5)\n",
    "gsearch5.fit(df[predictors],df['Outcome'])\n",
    "gsearch5.grid_scores_, gsearch5.best_params_, gsearch5.best_score_"
   ]
  },
  {
   "cell_type": "markdown",
   "metadata": {},
   "source": [
    "so, best parameters changed to\n",
    "{'colsample_bytree': 0.4, 'subsample': 0.8},\n",
    " 0.8381355695317959)\n",
    " \n",
    " Try <b>regularization</b>:\n",
    " \n",
    "Next step is to apply regularization to reduce overfitting. Though many people don’t use this parameters much as gamma provides a substantial way of controlling complexity. But we should always try it. I’ll tune ‘reg_alpha’ value here and leave it upto you to try different values of ‘reg_lambda’."
   ]
  },
  {
   "cell_type": "code",
   "execution_count": 36,
   "metadata": {},
   "outputs": [
    {
     "data": {
      "text/plain": [
       "([mean: 0.83814, std: 0.02851, params: {'reg_alpha': 1e-05},\n",
       "  mean: 0.83884, std: 0.02842, params: {'reg_alpha': 0.01},\n",
       "  mean: 0.83945, std: 0.02790, params: {'reg_alpha': 0.1},\n",
       "  mean: 0.83728, std: 0.02959, params: {'reg_alpha': 1},\n",
       "  mean: 0.71652, std: 0.02326, params: {'reg_alpha': 100}],\n",
       " {'reg_alpha': 0.1},\n",
       " 0.8394535290006988)"
      ]
     },
     "execution_count": 36,
     "metadata": {},
     "output_type": "execute_result"
    }
   ],
   "source": [
    "param_test6 = {\n",
    "    'reg_alpha':[1e-5, 1e-2, 0.1, 1, 100]\n",
    "}\n",
    "gsearch6 = GridSearchCV(estimator = XGBClassifier( learning_rate =0.1, n_estimators=140, max_depth=2,\n",
    " min_child_weight=7, gamma=0, subsample=0.8, colsample_bytree=0.4,\n",
    " objective= 'binary:logistic', nthread=4, scale_pos_weight=1,seed=27), \n",
    " param_grid = param_test6, scoring='roc_auc',n_jobs=4,iid=False, cv=5)\n",
    "gsearch6.fit(df[predictors],df['Outcome'])\n",
    "gsearch6.grid_scores_, gsearch6.best_params_, gsearch6.best_score_"
   ]
  },
  {
   "cell_type": "markdown",
   "metadata": {},
   "source": [
    "tune reg_alpha a bit more\n",
    "We can see that the CV score is less than the previous case. But the values tried are very widespread, we should try values closer to the optimum here (0.1) to see if we get something better."
   ]
  },
  {
   "cell_type": "code",
   "execution_count": 40,
   "metadata": {},
   "outputs": [
    {
     "data": {
      "text/plain": [
       "([mean: 0.83888, std: 0.02826, params: {'reg_alpha': 0.09},\n",
       "  mean: 0.83951, std: 0.02819, params: {'reg_alpha': 0.095},\n",
       "  mean: 0.83945, std: 0.02790, params: {'reg_alpha': 0.1},\n",
       "  mean: 0.83855, std: 0.02864, params: {'reg_alpha': 0.15},\n",
       "  mean: 0.83728, std: 0.02959, params: {'reg_alpha': 1}],\n",
       " {'reg_alpha': 0.095},\n",
       " 0.8395115303983228)"
      ]
     },
     "execution_count": 40,
     "metadata": {},
     "output_type": "execute_result"
    }
   ],
   "source": [
    "param_test7 = {\n",
    "    'reg_alpha':[0.090, 0.095, 0.1, 0.15, 1]\n",
    "}\n",
    "gsearch7 = GridSearchCV(estimator = XGBClassifier( learning_rate =0.1, n_estimators=140, max_depth=2,\n",
    " min_child_weight=7, gamma=0, subsample=0.8, colsample_bytree=0.4,\n",
    " objective= 'binary:logistic', nthread=4, scale_pos_weight=1,seed=27), \n",
    " param_grid = param_test7, scoring='roc_auc',n_jobs=4,iid=False, cv=5)\n",
    "gsearch7.fit(df[predictors],df['Outcome'])\n",
    "gsearch7.grid_scores_, gsearch7.best_params_, gsearch7.best_score_"
   ]
  },
  {
   "cell_type": "markdown",
   "metadata": {},
   "source": [
    "We got a better CV. Now we can apply this regularization in the model and look at the impact:"
   ]
  },
  {
   "cell_type": "code",
   "execution_count": 48,
   "metadata": {},
   "outputs": [
    {
     "name": "stdout",
     "output_type": "stream",
     "text": [
      "\n",
      "Model Report\n",
      "Accuracy : 0.8177\n",
      "AUC Score (Train): 0.904284\n",
      "CV Score : Mean - 0.8395115 | Std - 0.0281896 | Min - 0.8024074 | Max - 0.8839623\n"
     ]
    },
    {
     "data": {
      "image/png": "[encoded data removed]",
      "text/plain": [
       "<matplotlib.figure.Figure at 0x2e1398cfb38>"
      ]
     },
     "metadata": {},
     "output_type": "display_data"
    }
   ],
   "source": [
    "xgb3 = XGBClassifier(\n",
    "    learning_rate =0.1,\n",
    "    n_estimators=140,\n",
    "    max_depth=2,\n",
    "    min_child_weight=7,\n",
    "    gamma=0,\n",
    "    subsample=0.8,\n",
    "    colsample_bytree=0.4,\n",
    "    reg_alpha=0.095,\n",
    "    objective= 'binary:logistic',\n",
    "    nthread=4,\n",
    "    scale_pos_weight=1,\n",
    "    seed=27)\n",
    "modelfit(xgb3, df, predictors)"
   ]
  },
  {
   "cell_type": "markdown",
   "metadata": {},
   "source": [
    "Again we can see slight improvement in the score.\n",
    "## Step 6: Reducing Learning Rate\n",
    "Lastly, we should lower the learning rate and add more trees. Lets use the cv function of XGBoost to do the job again."
   ]
  },
  {
   "cell_type": "code",
   "execution_count": 49,
   "metadata": {},
   "outputs": [
    {
     "name": "stdout",
     "output_type": "stream",
     "text": [
      "\n",
      "Model Report\n",
      "Accuracy : 0.7799\n",
      "AUC Score (Train): 0.869019\n",
      "CV Score : Mean - 0.8314836 | Std - 0.03296974 | Min - 0.7862963 | Max - 0.8886792\n"
     ]
    },
    {
     "data": {
      "image/png": "[encoded data removed]",
      "text/plain": [
       "<matplotlib.figure.Figure at 0x2e139b7fe48>"
      ]
     },
     "metadata": {},
     "output_type": "display_data"
    }
   ],
   "source": [
    "xgb4 = XGBClassifier(\n",
    "    learning_rate =0.01,\n",
    "    n_estimators=140,\n",
    "    max_depth=2,\n",
    "    min_child_weight=7,\n",
    "    gamma=0,\n",
    "    subsample=0.8,\n",
    "    colsample_bytree=0.4,\n",
    "    reg_alpha=0.095,\n",
    "    objective= 'binary:logistic',\n",
    "    nthread=4,\n",
    "    scale_pos_weight=1,\n",
    "    seed=27)\n",
    "modelfit(xgb4, df, predictors)"
   ]
  },
  {
   "cell_type": "markdown",
   "metadata": {},
   "source": [
    "Now we can see a significant boost in performance and the effect of parameter tuning is clearer.\n",
    "\n",
    "2 key thoughts:\n",
    "\n",
    "It is difficult to get a very big leap in performance by just using parameter tuning or slightly better models. The max score for GBM was 0.8373592 while XGBoost gave 0.8395115. This is a decent improvement but not something very substantial.\n",
    "<br>\n",
    "A significant jump can be obtained by other methods like feature engineering, creating ensemble of models, stacking, etc"
   ]
  }
 ],
 "metadata": {
  "kernelspec": {
   "display_name": "Python [conda root]",
   "language": "python",
   "name": "conda-root-py"
  },
  "language_info": {
   "codemirror_mode": {
    "name": "ipython",
    "version": 3
   },
   "file_extension": ".py",
   "mimetype": "text/x-python",
   "name": "python",
   "nbconvert_exporter": "python",
   "pygments_lexer": "ipython3",
   "version": "3.6.1"
  }
 },
 "nbformat": 4,
 "nbformat_minor": 2
}
