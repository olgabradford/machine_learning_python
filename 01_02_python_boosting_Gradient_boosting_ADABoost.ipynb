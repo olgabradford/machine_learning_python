{
 "cells": [
  {
   "cell_type": "markdown",
   "metadata": {},
   "source": [
    "# Boosting in python\n",
    "\n",
    "1. AdaBoost <br>\n",
    "2. Gradient boosting (GBM) <br>\n",
    "3. XGBoost\n",
    "\n",
    "\n",
    "# Boosting in R\n",
    "https://www.analyticsvidhya.com/blog/2015/09/complete-guide-boosting-methods/\n"
   ]
  },
  {
   "cell_type": "markdown",
   "metadata": {},
   "source": [
    "## AdaBoost (Adaptive Boosting)\n",
    " It works on similar method as discussed above. It fits a sequence of weak learners on different weighted training data. It starts by predicting original data set and gives equal weight to each observation. If prediction is incorrect using the first learner, then it gives higher weight to observation which have been predicted incorrectly. Being an iterative process, it continues to add learner(s) until a limit is reached in the number of models or accuracy.\n",
    "\n",
    "Mostly, we use decision stamps with AdaBoost. But, we can use any machine learning algorithms as base learner if it accepts weight on training data set. We can use AdaBoost algorithms for both classification and regression problem."
   ]
  },
  {
   "cell_type": "code",
   "execution_count": 1,
   "metadata": {},
   "outputs": [],
   "source": [
    "from sklearn.ensemble import AdaBoostClassifier #For Classification\n",
    "from sklearn.ensemble import AdaBoostRegressor #For Regression\n",
    "from sklearn.tree import DecisionTreeClassifier"
   ]
  },
  {
   "cell_type": "code",
   "execution_count": null,
   "metadata": {},
   "outputs": [],
   "source": [
    "#DOnt RUN\n",
    "dt = DecisionTreeClassifier() \n",
    "clf = AdaBoostClassifier(n_estimators=100, base_estimator=dt,learning_rate=1)\n",
    "#Above I have used decision tree as a base estimator, you can use any ML learner as base estimator if it ac# cepts sample weight \n",
    "clf.fit(x_train,y_train)"
   ]
  },
  {
   "cell_type": "markdown",
   "metadata": {},
   "source": [
    "You can tune the parameters to optimize the performance of algorithms. The key parameters for tuning:\n",
    "\n",
    "n_estimators: It controls the number of weak learners.\n",
    "learning_rate:Controls the contribution of weak learners in the final combination. There is a trade-off between learning_rate and n_estimators.\n",
    "base_estimators: It helps to specify different ML algorithm.\n",
    "You can also tune the parameters of base learners to optimize its performance."
   ]
  },
  {
   "cell_type": "markdown",
   "metadata": {},
   "source": [
    "## Gradient boosing (GBM)\n",
    "\n",
    "\n",
    "In gradient boosting, it trains many model sequentially. Each new model gradually minimizes the loss function (y = ax + b + e, e needs special attention as it is an error term) of the whole system using Gradient Descent method. The learning procedure consecutively fit new models to provide a more accurate estimate of the response variable.\n",
    "\n",
    "The principle idea behind this algorithm is to construct new base learners which can be maximally correlated with negative gradient of the loss function, associated with the whole ensemble. \n",
    "\n"
   ]
  },
  {
   "cell_type": "code",
   "execution_count": null,
   "metadata": {},
   "outputs": [],
   "source": [
    "#DONT RUN\n",
    "#quick code\n",
    "from sklearn.ensemble import GradientBoostingClassifier #For Classification\n",
    "from sklearn.ensemble import GradientBoostingRegressor #For Regression\n",
    "\n",
    "clf = GradientBoostingClassifier(n_estimators=100, learning_rate=1.0, max_depth=1)\n",
    "clf.fit(X_train, y_train)"
   ]
  },
  {
   "cell_type": "code",
   "execution_count": 4,
   "metadata": {},
   "outputs": [
    {
     "name": "stderr",
     "output_type": "stream",
     "text": [
      "C:\\Users\\dave_\\Anaconda3\\lib\\site-packages\\sklearn\\cross_validation.py:44: DeprecationWarning: This module was deprecated in version 0.18 in favor of the model_selection module into which all the refactored classes and functions are moved. Also note that the interface of the new CV iterators are different from that of this module. This module will be removed in 0.20.\n",
      "  \"This module will be removed in 0.20.\", DeprecationWarning)\n",
      "C:\\Users\\dave_\\Anaconda3\\lib\\site-packages\\sklearn\\grid_search.py:43: DeprecationWarning: This module was deprecated in version 0.18 in favor of the model_selection module into which all the refactored classes and functions are moved. This module will be removed in 0.20.\n",
      "  DeprecationWarning)\n"
     ]
    }
   ],
   "source": [
    "#Import libraries:\n",
    "import pandas as pd\n",
    "import numpy as np\n",
    "from sklearn.ensemble import GradientBoostingClassifier  #GBM algorithm\n",
    "from sklearn import cross_validation, metrics   #Additional scklearn functions\n",
    "from sklearn.grid_search import GridSearchCV   #Perforing grid search\n",
    "\n",
    "import matplotlib.pylab as plt\n",
    "%matplotlib inline\n",
    "from matplotlib.pylab import rcParams\n",
    "rcParams['figure.figsize'] = 12, 4\n",
    "\n"
   ]
  },
  {
   "cell_type": "code",
   "execution_count": 5,
   "metadata": {},
   "outputs": [],
   "source": [
    "#train = pd.read_csv('train_modified.csv', encoding = \"ISO-8859-1\")\n",
    "#target = 'Disbursed'\n",
    "#IDcol = 'ID'\n",
    "df = pd.read_csv(\"diabetes.csv\")"
   ]
  },
  {
   "cell_type": "code",
   "execution_count": 6,
   "metadata": {},
   "outputs": [
    {
     "data": {
      "text/html": [
       "<div>\n",
       "<style>\n",
       "    .dataframe thead tr:only-child th {\n",
       "        text-align: right;\n",
       "    }\n",
       "\n",
       "    .dataframe thead th {\n",
       "        text-align: left;\n",
       "    }\n",
       "\n",
       "    .dataframe tbody tr th {\n",
       "        vertical-align: top;\n",
       "    }\n",
       "</style>\n",
       "<table border=\"1\" class=\"dataframe\">\n",
       "  <thead>\n",
       "    <tr style=\"text-align: right;\">\n",
       "      <th></th>\n",
       "      <th>Pregnancies</th>\n",
       "      <th>Glucose</th>\n",
       "      <th>BloodPressure</th>\n",
       "      <th>SkinThickness</th>\n",
       "      <th>Insulin</th>\n",
       "      <th>BMI</th>\n",
       "      <th>DiabetesPedigreeFunction</th>\n",
       "      <th>Age</th>\n",
       "      <th>Outcome</th>\n",
       "    </tr>\n",
       "  </thead>\n",
       "  <tbody>\n",
       "    <tr>\n",
       "      <th>0</th>\n",
       "      <td>6</td>\n",
       "      <td>148</td>\n",
       "      <td>72</td>\n",
       "      <td>35</td>\n",
       "      <td>0</td>\n",
       "      <td>33.6</td>\n",
       "      <td>0.627</td>\n",
       "      <td>50</td>\n",
       "      <td>1</td>\n",
       "    </tr>\n",
       "    <tr>\n",
       "      <th>1</th>\n",
       "      <td>1</td>\n",
       "      <td>85</td>\n",
       "      <td>66</td>\n",
       "      <td>29</td>\n",
       "      <td>0</td>\n",
       "      <td>26.6</td>\n",
       "      <td>0.351</td>\n",
       "      <td>31</td>\n",
       "      <td>0</td>\n",
       "    </tr>\n",
       "    <tr>\n",
       "      <th>2</th>\n",
       "      <td>8</td>\n",
       "      <td>183</td>\n",
       "      <td>64</td>\n",
       "      <td>0</td>\n",
       "      <td>0</td>\n",
       "      <td>23.3</td>\n",
       "      <td>0.672</td>\n",
       "      <td>32</td>\n",
       "      <td>1</td>\n",
       "    </tr>\n",
       "  </tbody>\n",
       "</table>\n",
       "</div>"
      ],
      "text/plain": [
       "   Pregnancies  Glucose  BloodPressure  SkinThickness  Insulin   BMI  \\\n",
       "0            6      148             72             35        0  33.6   \n",
       "1            1       85             66             29        0  26.6   \n",
       "2            8      183             64              0        0  23.3   \n",
       "\n",
       "   DiabetesPedigreeFunction  Age  Outcome  \n",
       "0                     0.627   50        1  \n",
       "1                     0.351   31        0  \n",
       "2                     0.672   32        1  "
      ]
     },
     "execution_count": 6,
     "metadata": {},
     "output_type": "execute_result"
    }
   ],
   "source": [
    "df.head(3)"
   ]
  },
  {
   "cell_type": "code",
   "execution_count": 7,
   "metadata": {},
   "outputs": [],
   "source": [
    "y='Outcome' #dependent variable"
   ]
  },
  {
   "cell_type": "markdown",
   "metadata": {},
   "source": [
    "Before proceeding further, lets define a function which will help us create GBM models and perform cross-validation.<br>\n",
    "<br> The function will do the following: <br>\n",
    "1. fit the model <br>\n",
    "2. determine training accuracy<br>\n",
    "3. determine training AUC<br>\n",
    "4. determine testing AUC<br>\n",
    "5. perform CV is performCV is True<br>\n",
    "6. plot Feature Importance if printFeatureImportance is True<br>"
   ]
  },
  {
   "cell_type": "code",
   "execution_count": 8,
   "metadata": {},
   "outputs": [],
   "source": [
    "def modelfit(alg, dtrain, predictors, performCV=True, printFeatureImportance=True, cv_folds=5):\n",
    "    #Fit the algorithm on the data\n",
    "    alg.fit(dtrain[predictors], dtrain['Outcome'])\n",
    "        \n",
    "    #Predict training set:\n",
    "    dtrain_predictions = alg.predict(dtrain[predictors])\n",
    "    dtrain_predprob = alg.predict_proba(dtrain[predictors])[:,1]\n",
    "    \n",
    "    #Perform cross-validation:\n",
    "    if performCV:\n",
    "        cv_score = cross_validation.cross_val_score(alg, dtrain[predictors], dtrain['Outcome'], \n",
    "                                                    cv=cv_folds, scoring='roc_auc')\n",
    "    \n",
    "    #Print model report:\n",
    "    print(\"\\nModel Report\")\n",
    "    print(\"Accuracy : %.4g\" % metrics.accuracy_score(dtrain['Outcome'].values, dtrain_predictions))\n",
    "    print (\"AUC Score (Train): %f\" % metrics.roc_auc_score(dtrain['Outcome'], dtrain_predprob))\n",
    "    \n",
    "    if performCV:\n",
    "        print (\"CV Score : Mean - %.7g | Std - %.7g | Min - %.7g | Max - %.7g\" %  \\\n",
    "               (np.mean(cv_score),np.std(cv_score),np.min(cv_score),np.max(cv_score)))\n",
    "    \n",
    "        \n",
    "    #Print Feature Importance\n",
    "    if printFeatureImportance:\n",
    "        feat_imp = pd.Series(alg.feature_importances_, predictors).sort_values(ascending=False)\n",
    "        feat_imp.plot(kind='bar', title='Feature Importances')\n",
    "        plt.ylabel('Feature Importance Score')"
   ]
  },
  {
   "cell_type": "markdown",
   "metadata": {},
   "source": [
    "## Creating Baseline Model\n",
    "Lets start by creating a baseline model. In this case, the evaluation metric is AUC so using any constant value will give 0.5 as result. Typically, a good baseline can be a GBM model with default parameters, i.e. without any tuning. Lets find out what it gives:"
   ]
  },
  {
   "cell_type": "code",
   "execution_count": 9,
   "metadata": {},
   "outputs": [
    {
     "name": "stdout",
     "output_type": "stream",
     "text": [
      "\n",
      "Model Report\n",
      "Accuracy : 0.9062\n",
      "AUC Score (Train): 0.971530\n",
      "CV Score : Mean - 0.8260793 | Std - 0.02835991 | Min - 0.7925 | Max - 0.8771698\n"
     ]
    },
    {
     "data": {
      "image/png": "[encoded data removed]",
      "text/plain": [
       "<matplotlib.figure.Figure at 0x197b6c42fd0>"
      ]
     },
     "metadata": {},
     "output_type": "display_data"
    }
   ],
   "source": [
    "#Choose all predictors except target & IDcols\n",
    "#predictors = [x for x in train.columns if x not in [target, IDcol]]\n",
    "predictors = df.columns.values[:8]\n",
    "gbm0 = GradientBoostingClassifier(random_state=10)\n",
    "modelfit(gbm0, df, predictors)"
   ]
  },
  {
   "cell_type": "markdown",
   "metadata": {},
   "source": [
    "So, the mean CV score is 0.8261 and we should expect our model to do better than this\n",
    "<br>\n",
    "<b>Parameter tuning : </b><br>\n",
    "<b>learning_rate</b><br>\n",
    "This determines the impact of each tree on the final outcome (step 2.4). GBM works by starting with an initial estimate which is updated using the output of each tree. The learning parameter controls the magnitude of this change in the estimates.\n",
    "Lower values are generally preferred as they make the model robust to the specific characteristics of tree and thus allowing it to generalize well.\n",
    "Lower values would require higher number of trees to model all the relations and will be computationally expensive.<br>\n",
    "<b>n_estimators</b><br>\n",
    "The number of sequential trees to be modeled (step 2)\n",
    "Though GBM is fairly robust at higher number of trees but it can still overfit at a point. Hence, this should be tuned using CV for a particular learning rate.<br>\n",
    "<b>subsample</b><br>\n",
    "The fraction of observations to be selected for each tree. Selection is done by random sampling.\n",
    "Values slightly less than 1 make the model robust by reducing the variance.\n",
    "Typical values ~0.8 generally work fine but can be fine-tuned further.<br>\n",
    "<b>random_state</b><br>\n",
    "The random number seed so that same random numbers are generated every time.\n",
    "This is important for parameter tuning. If we don’t fix the random number, then we’ll have different outcomes for subsequent runs on the same parameters and it becomes difficult to compare models.\n",
    "It can potentially result in overfitting to a particular random sample selected. We can try running models for different random samples, which is computationally expensive and generally not used.\n",
    "\n",
    "<br>\n",
    "<br>\n",
    "<br>\n",
    "<br><b>General approach to Parameter Tuning</b><br>\n",
    "Here are two types of parameter to be tuned here – tree based and boosting parameters. There are no optimum values for learning rate as low values always work better, given that we train on sufficient number of trees.\n",
    "\n",
    "Though, GBM is robust enough to not overfit with increasing trees, but a high number for pa particular learning rate can lead to overfitting. But as we reduce the learning rate and increase trees, the computation becomes expensive and would take a long time to run on standard personal computers.<br>\n",
    "\n",
    "Keeping all this in mind, we can take the following approach:<br>\n",
    "\n",
    "1. Choose a relatively high learning rate. Generally the default value of 0.1 works but somewhere between 0.05 to 0.2 should work for different problems <br>\n",
    "2. Determine the optimum number of trees for this learning rate. This should range around 40-70. Remember to choose a value on which your system can work fairly fast. This is because it will be used for testing various scenarios and determining the tree parameters.<br>\n",
    "3. Tune tree-specific parameters for decided learning rate and number of trees. Note that we can choose different parameters to define a tree and I’ll take up an example here.<br>\n",
    "4. Lower the learning rate and increase the estimators proportionally to get more robust models.<br>\n",
    "\n",
    "<b> Two types of parameters here: </b><br>\n",
    "<br>\n",
    "<b>Tree specific parameters</b> <br>\n",
    "min_samples_split<br>\n",
    "min_samples_leaf<br>\n",
    "max_depth<br>\n",
    "min_leaf_nodes<br>\n",
    "max_features<br>\n",
    "loss function <br>\n",
    "\n",
    "<b>Boosting specific parameters</b> <br>\n",
    "n_estimators<br>\n",
    "learning_rate<br>\n",
    "subsample<br>"
   ]
  },
  {
   "cell_type": "markdown",
   "metadata": {},
   "source": [
    "## Step 1- Find the number of estimators for a high learning rate\n",
    "\n",
    "We will use the following benchmarks for parameters:\n",
    "\n",
    "min_samples_split = 100 : ~0.5-1% of total values. Since this is imbalanced class problem, we'll take small value\n",
    "min_samples_leaf = 50 : Just using for preventing overfitting. will be tuned later.\n",
    "max_depth = 8 : since high number of observations and predictors, choose relatively high value\n",
    "max_features = 'sqrt' : general thumbrule to start with\n",
    "subsample = 0.8 : typically used value (will be tuned later)\n",
    "0.1 is assumed to be a good learning rate to start with. Let's try to find the optimum number of estimators requried for this."
   ]
  },
  {
   "cell_type": "code",
   "execution_count": 10,
   "metadata": {},
   "outputs": [
    {
     "data": {
      "text/plain": [
       "GridSearchCV(cv=5, error_score='raise',\n",
       "       estimator=GradientBoostingClassifier(criterion='friedman_mse', init=None,\n",
       "              learning_rate=0.1, loss='deviance', max_depth=8,\n",
       "              max_features='sqrt', max_leaf_nodes=None,\n",
       "              min_impurity_split=1e-07, min_samples_leaf=50,\n",
       "              min_samples_split=100, min_weight_fraction_leaf=0.0,\n",
       "              n_estimators=100, presort='auto', random_state=10,\n",
       "              subsample=0.8, verbose=0, warm_start=False),\n",
       "       fit_params={}, iid=False, n_jobs=4,\n",
       "       param_grid={'n_estimators': [20, 30, 40, 50, 60, 70, 80, 90, 100]},\n",
       "       pre_dispatch='2*n_jobs', refit=True, scoring='roc_auc', verbose=0)"
      ]
     },
     "execution_count": 10,
     "metadata": {},
     "output_type": "execute_result"
    }
   ],
   "source": [
    "#choose predictors apart from last column \"Outcome\"\n",
    "predictors = df.columns.values[:8]\n",
    "param_test1 = {'n_estimators':list(range(20,101,10))}\n",
    "gsearch1 = GridSearchCV(estimator = GradientBoostingClassifier(learning_rate=0.1, min_samples_split=100,\n",
    "                                  min_samples_leaf=50,max_depth=8,max_features='sqrt', subsample=0.8,random_state=10), \n",
    "                       param_grid = param_test1, scoring='roc_auc',n_jobs=4,iid=False, cv=5)\n",
    "gsearch1.fit(df[predictors],df['Outcome'])"
   ]
  },
  {
   "cell_type": "code",
   "execution_count": 11,
   "metadata": {},
   "outputs": [
    {
     "data": {
      "text/plain": [
       "([mean: 0.82296, std: 0.04287, params: {'n_estimators': 20},\n",
       "  mean: 0.82758, std: 0.03932, params: {'n_estimators': 30},\n",
       "  mean: 0.82916, std: 0.03693, params: {'n_estimators': 40},\n",
       "  mean: 0.82638, std: 0.03864, params: {'n_estimators': 50},\n",
       "  mean: 0.82932, std: 0.03696, params: {'n_estimators': 60},\n",
       "  mean: 0.82791, std: 0.03681, params: {'n_estimators': 70},\n",
       "  mean: 0.82817, std: 0.03693, params: {'n_estimators': 80},\n",
       "  mean: 0.82440, std: 0.03585, params: {'n_estimators': 90},\n",
       "  mean: 0.82400, std: 0.03373, params: {'n_estimators': 100}],\n",
       " {'n_estimators': 60},\n",
       " 0.8293172606568833)"
      ]
     },
     "execution_count": 11,
     "metadata": {},
     "output_type": "execute_result"
    }
   ],
   "source": [
    "#output can be checked with the below.\n",
    "gsearch1.grid_scores_, gsearch1.best_params_, gsearch1.best_score_"
   ]
  },
  {
   "cell_type": "code",
   "execution_count": 24,
   "metadata": {},
   "outputs": [
    {
     "name": "stdout",
     "output_type": "stream",
     "text": [
      "\n",
      "Model Report\n",
      "Accuracy : 0.8477\n",
      "AUC Score (Train): 0.921291\n",
      "CV Score : Mean - 0.8293173 | Std - 0.03695592 | Min - 0.7783333 | Max - 0.8862264\n"
     ]
    },
    {
     "data": {
      "image/png": "[encoded data removed]",
      "text/plain": [
       "<matplotlib.figure.Figure at 0x197b6c4f240>"
      ]
     },
     "metadata": {},
     "output_type": "display_data"
    }
   ],
   "source": [
    "modelfit(gsearch1.best_estimator_, df, predictors)"
   ]
  },
  {
   "cell_type": "markdown",
   "metadata": {},
   "source": [
    "So we got 60 as the optimal estimators for the 0.1 learning rate. Note that 60 is a reasonable value and can be used as it is. But it might not be the same in all cases. Other situations:\n",
    "\n",
    "If the value is around 20, you might want to try lowering the learning rate to 0.05 and re-run grid search\n",
    "If the values are too high ~100, tuning the other parameters will take long time and you can try a higher learning rate\n",
    "\n",
    "\n",
    "## Step 2 Tune tree-specific parameters\n",
    "Will do this in 2 stages <br>\n",
    "1. Tune max_depth and num_samples_split <br>\n",
    "2. Tune min_samples_leaf <br>\n",
    "3. Tune max_features <br>"
   ]
  },
  {
   "cell_type": "code",
   "execution_count": 13,
   "metadata": {},
   "outputs": [
    {
     "data": {
      "text/plain": [
       "GridSearchCV(cv=5, error_score='raise',\n",
       "       estimator=GradientBoostingClassifier(criterion='friedman_mse', init=None,\n",
       "              learning_rate=0.1, loss='deviance', max_depth=3,\n",
       "              max_features='sqrt', max_leaf_nodes=None,\n",
       "              min_impurity_split=1e-07, min_samples_leaf=1,\n",
       "              min_samples_split=2, min_weight_fraction_leaf=0.0,\n",
       "              n_estimators=60, presort='auto', random_state=10,\n",
       "              subsample=0.8, verbose=0, warm_start=False),\n",
       "       fit_params={}, iid=False, n_jobs=4,\n",
       "       param_grid={'max_depth': [5, 6, 7, 8, 9, 10, 11, 12, 13, 14, 15], 'min_samples_split': [100, 200, 300, 400, 500, 600, 700, 800, 900, 1000]},\n",
       "       pre_dispatch='2*n_jobs', refit=True, scoring='roc_auc', verbose=0)"
      ]
     },
     "execution_count": 13,
     "metadata": {},
     "output_type": "execute_result"
    }
   ],
   "source": [
    "#Grid seach on subsample and max_features\n",
    "param_test2 = {'max_depth':list(range(5,16,1)), 'min_samples_split':list(range(100,1001,100))}\n",
    "gsearch2 = GridSearchCV(estimator = GradientBoostingClassifier(learning_rate=0.1, n_estimators=60,\n",
    "                                                max_features='sqrt', subsample=0.8, random_state=10), \n",
    "                       param_grid = param_test2, scoring='roc_auc',n_jobs=4,iid=False, cv=5)\n",
    "gsearch2.fit(df[predictors],df['Outcome'])"
   ]
  },
  {
   "cell_type": "code",
   "execution_count": 14,
   "metadata": {},
   "outputs": [
    {
     "data": {
      "text/plain": [
       "([mean: 0.83549, std: 0.03148, params: {'max_depth': 5, 'min_samples_split': 100},\n",
       "  mean: 0.84037, std: 0.03449, params: {'max_depth': 5, 'min_samples_split': 200},\n",
       "  mean: 0.83773, std: 0.03658, params: {'max_depth': 5, 'min_samples_split': 300},\n",
       "  mean: 0.83295, std: 0.03663, params: {'max_depth': 5, 'min_samples_split': 400},\n",
       "  mean: 0.50000, std: 0.00000, params: {'max_depth': 5, 'min_samples_split': 500},\n",
       "  mean: 0.50000, std: 0.00000, params: {'max_depth': 5, 'min_samples_split': 600},\n",
       "  mean: 0.50000, std: 0.00000, params: {'max_depth': 5, 'min_samples_split': 700},\n",
       "  mean: 0.50000, std: 0.00000, params: {'max_depth': 5, 'min_samples_split': 800},\n",
       "  mean: 0.50000, std: 0.00000, params: {'max_depth': 5, 'min_samples_split': 900},\n",
       "  mean: 0.50000, std: 0.00000, params: {'max_depth': 5, 'min_samples_split': 1000},\n",
       "  mean: 0.83669, std: 0.03128, params: {'max_depth': 6, 'min_samples_split': 100},\n",
       "  mean: 0.84001, std: 0.03361, params: {'max_depth': 6, 'min_samples_split': 200},\n",
       "  mean: 0.83832, std: 0.03531, params: {'max_depth': 6, 'min_samples_split': 300},\n",
       "  mean: 0.83292, std: 0.03668, params: {'max_depth': 6, 'min_samples_split': 400},\n",
       "  mean: 0.50000, std: 0.00000, params: {'max_depth': 6, 'min_samples_split': 500},\n",
       "  mean: 0.50000, std: 0.00000, params: {'max_depth': 6, 'min_samples_split': 600},\n",
       "  mean: 0.50000, std: 0.00000, params: {'max_depth': 6, 'min_samples_split': 700},\n",
       "  mean: 0.50000, std: 0.00000, params: {'max_depth': 6, 'min_samples_split': 800},\n",
       "  mean: 0.50000, std: 0.00000, params: {'max_depth': 6, 'min_samples_split': 900},\n",
       "  mean: 0.50000, std: 0.00000, params: {'max_depth': 6, 'min_samples_split': 1000},\n",
       "  mean: 0.83517, std: 0.03131, params: {'max_depth': 7, 'min_samples_split': 100},\n",
       "  mean: 0.84128, std: 0.03352, params: {'max_depth': 7, 'min_samples_split': 200},\n",
       "  mean: 0.83763, std: 0.03527, params: {'max_depth': 7, 'min_samples_split': 300},\n",
       "  mean: 0.83292, std: 0.03668, params: {'max_depth': 7, 'min_samples_split': 400},\n",
       "  mean: 0.50000, std: 0.00000, params: {'max_depth': 7, 'min_samples_split': 500},\n",
       "  mean: 0.50000, std: 0.00000, params: {'max_depth': 7, 'min_samples_split': 600},\n",
       "  mean: 0.50000, std: 0.00000, params: {'max_depth': 7, 'min_samples_split': 700},\n",
       "  mean: 0.50000, std: 0.00000, params: {'max_depth': 7, 'min_samples_split': 800},\n",
       "  mean: 0.50000, std: 0.00000, params: {'max_depth': 7, 'min_samples_split': 900},\n",
       "  mean: 0.50000, std: 0.00000, params: {'max_depth': 7, 'min_samples_split': 1000},\n",
       "  mean: 0.83410, std: 0.03017, params: {'max_depth': 8, 'min_samples_split': 100},\n",
       "  mean: 0.84010, std: 0.03089, params: {'max_depth': 8, 'min_samples_split': 200},\n",
       "  mean: 0.83913, std: 0.03562, params: {'max_depth': 8, 'min_samples_split': 300},\n",
       "  mean: 0.83292, std: 0.03668, params: {'max_depth': 8, 'min_samples_split': 400},\n",
       "  mean: 0.50000, std: 0.00000, params: {'max_depth': 8, 'min_samples_split': 500},\n",
       "  mean: 0.50000, std: 0.00000, params: {'max_depth': 8, 'min_samples_split': 600},\n",
       "  mean: 0.50000, std: 0.00000, params: {'max_depth': 8, 'min_samples_split': 700},\n",
       "  mean: 0.50000, std: 0.00000, params: {'max_depth': 8, 'min_samples_split': 800},\n",
       "  mean: 0.50000, std: 0.00000, params: {'max_depth': 8, 'min_samples_split': 900},\n",
       "  mean: 0.50000, std: 0.00000, params: {'max_depth': 8, 'min_samples_split': 1000},\n",
       "  mean: 0.82690, std: 0.03025, params: {'max_depth': 9, 'min_samples_split': 100},\n",
       "  mean: 0.84125, std: 0.03152, params: {'max_depth': 9, 'min_samples_split': 200},\n",
       "  mean: 0.83947, std: 0.03625, params: {'max_depth': 9, 'min_samples_split': 300},\n",
       "  mean: 0.83292, std: 0.03668, params: {'max_depth': 9, 'min_samples_split': 400},\n",
       "  mean: 0.50000, std: 0.00000, params: {'max_depth': 9, 'min_samples_split': 500},\n",
       "  mean: 0.50000, std: 0.00000, params: {'max_depth': 9, 'min_samples_split': 600},\n",
       "  mean: 0.50000, std: 0.00000, params: {'max_depth': 9, 'min_samples_split': 700},\n",
       "  mean: 0.50000, std: 0.00000, params: {'max_depth': 9, 'min_samples_split': 800},\n",
       "  mean: 0.50000, std: 0.00000, params: {'max_depth': 9, 'min_samples_split': 900},\n",
       "  mean: 0.50000, std: 0.00000, params: {'max_depth': 9, 'min_samples_split': 1000},\n",
       "  mean: 0.82740, std: 0.02501, params: {'max_depth': 10, 'min_samples_split': 100},\n",
       "  mean: 0.84072, std: 0.03504, params: {'max_depth': 10, 'min_samples_split': 200},\n",
       "  mean: 0.83951, std: 0.03616, params: {'max_depth': 10, 'min_samples_split': 300},\n",
       "  mean: 0.83292, std: 0.03668, params: {'max_depth': 10, 'min_samples_split': 400},\n",
       "  mean: 0.50000, std: 0.00000, params: {'max_depth': 10, 'min_samples_split': 500},\n",
       "  mean: 0.50000, std: 0.00000, params: {'max_depth': 10, 'min_samples_split': 600},\n",
       "  mean: 0.50000, std: 0.00000, params: {'max_depth': 10, 'min_samples_split': 700},\n",
       "  mean: 0.50000, std: 0.00000, params: {'max_depth': 10, 'min_samples_split': 800},\n",
       "  mean: 0.50000, std: 0.00000, params: {'max_depth': 10, 'min_samples_split': 900},\n",
       "  mean: 0.50000, std: 0.00000, params: {'max_depth': 10, 'min_samples_split': 1000},\n",
       "  mean: 0.82550, std: 0.02566, params: {'max_depth': 11, 'min_samples_split': 100},\n",
       "  mean: 0.83940, std: 0.03411, params: {'max_depth': 11, 'min_samples_split': 200},\n",
       "  mean: 0.83925, std: 0.03622, params: {'max_depth': 11, 'min_samples_split': 300},\n",
       "  mean: 0.83292, std: 0.03668, params: {'max_depth': 11, 'min_samples_split': 400},\n",
       "  mean: 0.50000, std: 0.00000, params: {'max_depth': 11, 'min_samples_split': 500},\n",
       "  mean: 0.50000, std: 0.00000, params: {'max_depth': 11, 'min_samples_split': 600},\n",
       "  mean: 0.50000, std: 0.00000, params: {'max_depth': 11, 'min_samples_split': 700},\n",
       "  mean: 0.50000, std: 0.00000, params: {'max_depth': 11, 'min_samples_split': 800},\n",
       "  mean: 0.50000, std: 0.00000, params: {'max_depth': 11, 'min_samples_split': 900},\n",
       "  mean: 0.50000, std: 0.00000, params: {'max_depth': 11, 'min_samples_split': 1000},\n",
       "  mean: 0.82611, std: 0.03113, params: {'max_depth': 12, 'min_samples_split': 100},\n",
       "  mean: 0.83973, std: 0.03338, params: {'max_depth': 12, 'min_samples_split': 200},\n",
       "  mean: 0.83925, std: 0.03622, params: {'max_depth': 12, 'min_samples_split': 300},\n",
       "  mean: 0.83292, std: 0.03668, params: {'max_depth': 12, 'min_samples_split': 400},\n",
       "  mean: 0.50000, std: 0.00000, params: {'max_depth': 12, 'min_samples_split': 500},\n",
       "  mean: 0.50000, std: 0.00000, params: {'max_depth': 12, 'min_samples_split': 600},\n",
       "  mean: 0.50000, std: 0.00000, params: {'max_depth': 12, 'min_samples_split': 700},\n",
       "  mean: 0.50000, std: 0.00000, params: {'max_depth': 12, 'min_samples_split': 800},\n",
       "  mean: 0.50000, std: 0.00000, params: {'max_depth': 12, 'min_samples_split': 900},\n",
       "  mean: 0.50000, std: 0.00000, params: {'max_depth': 12, 'min_samples_split': 1000},\n",
       "  mean: 0.82802, std: 0.02981, params: {'max_depth': 13, 'min_samples_split': 100},\n",
       "  mean: 0.83803, std: 0.03429, params: {'max_depth': 13, 'min_samples_split': 200},\n",
       "  mean: 0.83925, std: 0.03622, params: {'max_depth': 13, 'min_samples_split': 300},\n",
       "  mean: 0.83292, std: 0.03668, params: {'max_depth': 13, 'min_samples_split': 400},\n",
       "  mean: 0.50000, std: 0.00000, params: {'max_depth': 13, 'min_samples_split': 500},\n",
       "  mean: 0.50000, std: 0.00000, params: {'max_depth': 13, 'min_samples_split': 600},\n",
       "  mean: 0.50000, std: 0.00000, params: {'max_depth': 13, 'min_samples_split': 700},\n",
       "  mean: 0.50000, std: 0.00000, params: {'max_depth': 13, 'min_samples_split': 800},\n",
       "  mean: 0.50000, std: 0.00000, params: {'max_depth': 13, 'min_samples_split': 900},\n",
       "  mean: 0.50000, std: 0.00000, params: {'max_depth': 13, 'min_samples_split': 1000},\n",
       "  mean: 0.82519, std: 0.02461, params: {'max_depth': 14, 'min_samples_split': 100},\n",
       "  mean: 0.83792, std: 0.03428, params: {'max_depth': 14, 'min_samples_split': 200},\n",
       "  mean: 0.83925, std: 0.03622, params: {'max_depth': 14, 'min_samples_split': 300},\n",
       "  mean: 0.83292, std: 0.03668, params: {'max_depth': 14, 'min_samples_split': 400},\n",
       "  mean: 0.50000, std: 0.00000, params: {'max_depth': 14, 'min_samples_split': 500},\n",
       "  mean: 0.50000, std: 0.00000, params: {'max_depth': 14, 'min_samples_split': 600},\n",
       "  mean: 0.50000, std: 0.00000, params: {'max_depth': 14, 'min_samples_split': 700},\n",
       "  mean: 0.50000, std: 0.00000, params: {'max_depth': 14, 'min_samples_split': 800},\n",
       "  mean: 0.50000, std: 0.00000, params: {'max_depth': 14, 'min_samples_split': 900},\n",
       "  mean: 0.50000, std: 0.00000, params: {'max_depth': 14, 'min_samples_split': 1000},\n",
       "  mean: 0.82880, std: 0.02936, params: {'max_depth': 15, 'min_samples_split': 100},\n",
       "  mean: 0.83769, std: 0.03429, params: {'max_depth': 15, 'min_samples_split': 200},\n",
       "  mean: 0.83925, std: 0.03622, params: {'max_depth': 15, 'min_samples_split': 300},\n",
       "  mean: 0.83292, std: 0.03668, params: {'max_depth': 15, 'min_samples_split': 400},\n",
       "  mean: 0.50000, std: 0.00000, params: {'max_depth': 15, 'min_samples_split': 500},\n",
       "  mean: 0.50000, std: 0.00000, params: {'max_depth': 15, 'min_samples_split': 600},\n",
       "  mean: 0.50000, std: 0.00000, params: {'max_depth': 15, 'min_samples_split': 700},\n",
       "  mean: 0.50000, std: 0.00000, params: {'max_depth': 15, 'min_samples_split': 800},\n",
       "  mean: 0.50000, std: 0.00000, params: {'max_depth': 15, 'min_samples_split': 900},\n",
       "  mean: 0.50000, std: 0.00000, params: {'max_depth': 15, 'min_samples_split': 1000}],\n",
       " {'max_depth': 7, 'min_samples_split': 200},\n",
       " 0.8412830188679246)"
      ]
     },
     "execution_count": 14,
     "metadata": {},
     "output_type": "execute_result"
    }
   ],
   "source": [
    "gsearch2.grid_scores_, gsearch2.best_params_, gsearch2.best_score_"
   ]
  },
  {
   "cell_type": "code",
   "execution_count": 16,
   "metadata": {},
   "outputs": [
    {
     "name": "stdout",
     "output_type": "stream",
     "text": [
      "\n",
      "Model Report\n",
      "Accuracy : 0.849\n",
      "AUC Score (Train): 0.928799\n",
      "CV Score : Mean - 0.841283 | Std - 0.0335188 | Min - 0.7933333 | Max - 0.8962264\n"
     ]
    },
    {
     "data": {
      "image/png": "[encoded data removed]",
      "text/plain": [
       "<matplotlib.figure.Figure at 0x197b7073c18>"
      ]
     },
     "metadata": {},
     "output_type": "display_data"
    }
   ],
   "source": [
    "modelfit(gsearch2.best_estimator_, df, predictors)"
   ]
  },
  {
   "cell_type": "markdown",
   "metadata": {},
   "source": [
    "Tune max_features"
   ]
  },
  {
   "cell_type": "code",
   "execution_count": 29,
   "metadata": {},
   "outputs": [
    {
     "data": {
      "text/plain": [
       "GridSearchCV(cv=5, error_score='raise',\n",
       "       estimator=GradientBoostingClassifier(criterion='friedman_mse', init=None,\n",
       "              learning_rate=0.1, loss='deviance', max_depth=7,\n",
       "              max_features=None, max_leaf_nodes=None,\n",
       "              min_impurity_split=1e-07, min_samples_leaf=60,\n",
       "              min_samples_split=200, min_weight_fraction_leaf=0.0,\n",
       "              n_estimators=60, presort='auto', random_state=10,\n",
       "              subsample=0.8, verbose=0, warm_start=False),\n",
       "       fit_params={}, iid=False, n_jobs=4,\n",
       "       param_grid={'max_features': [1, 2, 3, 4, 5, 6, 7, 8]},\n",
       "       pre_dispatch='2*n_jobs', refit=True, scoring='roc_auc', verbose=0)"
      ]
     },
     "execution_count": 29,
     "metadata": {},
     "output_type": "execute_result"
    }
   ],
   "source": [
    "#Grid seach on max_features\n",
    "param_test3 = {'max_features':list(range(1,9,1))}\n",
    "gsearch3 = GridSearchCV(estimator = GradientBoostingClassifier(learning_rate=0.1, n_estimators=60,max_depth=7, \n",
    "                            min_samples_split=200, min_samples_leaf=60, subsample=0.8, random_state=10),\n",
    "                       param_grid = param_test3, scoring='roc_auc',n_jobs=4,iid=False, cv=5)\n",
    "gsearch3.fit(df[predictors],df['Outcome'])"
   ]
  },
  {
   "cell_type": "code",
   "execution_count": 30,
   "metadata": {},
   "outputs": [
    {
     "data": {
      "text/plain": [
       "([mean: 0.82577, std: 0.02949, params: {'max_features': 1},\n",
       "  mean: 0.83026, std: 0.03418, params: {'max_features': 2},\n",
       "  mean: 0.83694, std: 0.03290, params: {'max_features': 3},\n",
       "  mean: 0.83242, std: 0.03258, params: {'max_features': 4},\n",
       "  mean: 0.83769, std: 0.03520, params: {'max_features': 5},\n",
       "  mean: 0.83579, std: 0.03127, params: {'max_features': 6},\n",
       "  mean: 0.83246, std: 0.03220, params: {'max_features': 7},\n",
       "  mean: 0.83413, std: 0.03078, params: {'max_features': 8}],\n",
       " {'max_features': 5},\n",
       " 0.8376911250873516)"
      ]
     },
     "execution_count": 30,
     "metadata": {},
     "output_type": "execute_result"
    }
   ],
   "source": [
    "gsearch3.grid_scores_, gsearch3.best_params_, gsearch3.best_score_"
   ]
  },
  {
   "cell_type": "code",
   "execution_count": 27,
   "metadata": {},
   "outputs": [
    {
     "name": "stdout",
     "output_type": "stream",
     "text": [
      "\n",
      "Model Report\n",
      "Accuracy : 0.8255\n",
      "AUC Score (Train): 0.904127\n",
      "CV Score : Mean - 0.8376911 | Std - 0.03520068 | Min - 0.7909259 | Max - 0.8932075\n"
     ]
    },
    {
     "data": {
      "image/png": "[encoded data removed]",
      "text/plain": [
       "<matplotlib.figure.Figure at 0x197b7314080>"
      ]
     },
     "metadata": {},
     "output_type": "display_data"
    }
   ],
   "source": [
    "modelfit(gsearch3.best_estimator_, df, predictors)"
   ]
  },
  {
   "cell_type": "markdown",
   "metadata": {},
   "source": [
    "## Step 3 Tune Subsample and Lower Learning Rate"
   ]
  },
  {
   "cell_type": "code",
   "execution_count": 32,
   "metadata": {},
   "outputs": [
    {
     "data": {
      "text/plain": [
       "GridSearchCV(cv=5, error_score='raise',\n",
       "       estimator=GradientBoostingClassifier(criterion='friedman_mse', init=None,\n",
       "              learning_rate=0.1, loss='deviance', max_depth=7,\n",
       "              max_features=5, max_leaf_nodes=None,\n",
       "              min_impurity_split=1e-07, min_samples_leaf=60,\n",
       "              min_samples_split=200, min_weight_fraction_leaf=0.0,\n",
       "              n_estimators=60, presort='auto', random_state=10,\n",
       "              subsample=0.8, verbose=0, warm_start=False),\n",
       "       fit_params={}, iid=False, n_jobs=4,\n",
       "       param_grid={'subsample': [0.6, 0.7, 0.75, 0.8, 0.85, 0.9]},\n",
       "       pre_dispatch='2*n_jobs', refit=True, scoring='roc_auc', verbose=0)"
      ]
     },
     "execution_count": 32,
     "metadata": {},
     "output_type": "execute_result"
    }
   ],
   "source": [
    "#Grid seach on subsample and max_features\n",
    "param_test4 = {'subsample':[0.6,0.7,0.75,0.8,0.85,0.9]}\n",
    "gsearch4 = GridSearchCV(estimator = GradientBoostingClassifier(learning_rate=0.1, n_estimators=60,max_depth=7, \n",
    "                            min_samples_split=200, min_samples_leaf=60, subsample=0.8, random_state=10, max_features=5),\n",
    "                       param_grid = param_test4, scoring='roc_auc',n_jobs=4,iid=False, cv=5)\n",
    "gsearch4.fit(df[predictors],df['Outcome'])"
   ]
  },
  {
   "cell_type": "code",
   "execution_count": 33,
   "metadata": {},
   "outputs": [
    {
     "data": {
      "text/plain": [
       "([mean: 0.83641, std: 0.03631, params: {'subsample': 0.6},\n",
       "  mean: 0.83228, std: 0.03617, params: {'subsample': 0.7},\n",
       "  mean: 0.83269, std: 0.03281, params: {'subsample': 0.75},\n",
       "  mean: 0.83769, std: 0.03520, params: {'subsample': 0.8},\n",
       "  mean: 0.83516, std: 0.03324, params: {'subsample': 0.85},\n",
       "  mean: 0.83406, std: 0.03377, params: {'subsample': 0.9}],\n",
       " {'subsample': 0.8},\n",
       " 0.8376911250873516)"
      ]
     },
     "execution_count": 33,
     "metadata": {},
     "output_type": "execute_result"
    }
   ],
   "source": [
    "gsearch4.grid_scores_, gsearch4.best_params_, gsearch4.best_score_"
   ]
  },
  {
   "cell_type": "code",
   "execution_count": 34,
   "metadata": {},
   "outputs": [
    {
     "name": "stdout",
     "output_type": "stream",
     "text": [
      "\n",
      "Model Report\n",
      "Accuracy : 0.8255\n",
      "AUC Score (Train): 0.904127\n",
      "CV Score : Mean - 0.8376911 | Std - 0.03520068 | Min - 0.7909259 | Max - 0.8932075\n"
     ]
    },
    {
     "data": {
      "image/png": "[encoded data removed]",
      "text/plain": [
       "<matplotlib.figure.Figure at 0x197b733e940>"
      ]
     },
     "metadata": {},
     "output_type": "display_data"
    }
   ],
   "source": [
    "modelfit(gsearch4.best_estimator_, df, predictors)"
   ]
  },
  {
   "cell_type": "markdown",
   "metadata": {},
   "source": [
    "With all tuned lets try reducing the learning rate and proportionally increasing the number of estimators to get more robust results:"
   ]
  },
  {
   "cell_type": "code",
   "execution_count": 36,
   "metadata": {},
   "outputs": [
    {
     "name": "stdout",
     "output_type": "stream",
     "text": [
      "\n",
      "Model Report\n",
      "Accuracy : 0.8294\n",
      "AUC Score (Train): 0.903549\n",
      "CV Score : Mean - 0.8377547 | Std - 0.03496334 | Min - 0.7874074 | Max - 0.8909434\n"
     ]
    },
    {
     "data": {
      "image/png": "[encoded data removed]",
      "text/plain": [
       "<matplotlib.figure.Figure at 0x197b6c424a8>"
      ]
     },
     "metadata": {},
     "output_type": "display_data"
    }
   ],
   "source": [
    "predictors = df.columns.values[:8]\n",
    "gbm_tuned_1 = GradientBoostingClassifier(learning_rate=0.05, n_estimators=120,max_depth=7, min_samples_split=200, \n",
    "                                         min_samples_leaf=60, subsample=0.8, random_state=10, max_features=5)\n",
    "\n",
    "\n",
    "\n",
    "modelfit(gbm_tuned_1, df, predictors)\n"
   ]
  },
  {
   "cell_type": "markdown",
   "metadata": {},
   "source": [
    "1/10th learning rate"
   ]
  },
  {
   "cell_type": "code",
   "execution_count": 37,
   "metadata": {},
   "outputs": [
    {
     "name": "stdout",
     "output_type": "stream",
     "text": [
      "\n",
      "Model Report\n",
      "Accuracy : 0.8268\n",
      "AUC Score (Train): 0.905060\n",
      "CV Score : Mean - 0.8359511 | Std - 0.0339955 | Min - 0.7874074 | Max - 0.890566\n"
     ]
    },
    {
     "data": {
      "image/png": "[encoded data removed]",
      "text/plain": [
       "<matplotlib.figure.Figure at 0x197b755be48>"
      ]
     },
     "metadata": {},
     "output_type": "display_data"
    }
   ],
   "source": [
    "predictors = df.columns.values[:8]\n",
    "gbm_tuned_2 = GradientBoostingClassifier(learning_rate=0.01, n_estimators=600,max_depth=7, min_samples_split=200, \n",
    "                                         min_samples_leaf=60, subsample=0.8, random_state=10, max_features=5)\n",
    "\n",
    "\n",
    "\n",
    "modelfit(gbm_tuned_2, df, predictors)"
   ]
  },
  {
   "cell_type": "markdown",
   "metadata": {},
   "source": [
    "1/50th learning rate"
   ]
  },
  {
   "cell_type": "code",
   "execution_count": 38,
   "metadata": {},
   "outputs": [
    {
     "name": "stdout",
     "output_type": "stream",
     "text": [
      "\n",
      "Model Report\n",
      "Accuracy : 0.8294\n",
      "AUC Score (Train): 0.904993\n",
      "CV Score : Mean - 0.8373592 | Std - 0.0327241 | Min - 0.7914815 | Max - 0.8903774\n"
     ]
    },
    {
     "data": {
      "image/png": "[encoded data removed]",
      "text/plain": [
       "<matplotlib.figure.Figure at 0x197b77bcdd8>"
      ]
     },
     "metadata": {},
     "output_type": "display_data"
    }
   ],
   "source": [
    "predictors = df.columns.values[:8]\n",
    "gbm_tuned_3 = GradientBoostingClassifier(learning_rate=0.005, n_estimators=1200,max_depth=7, min_samples_split=200, \n",
    "                                         min_samples_leaf=60, subsample=0.8, random_state=10, max_features=5)\n",
    "\n",
    "\n",
    "\n",
    "modelfit(gbm_tuned_3, df, predictors)"
   ]
  },
  {
   "cell_type": "code",
   "execution_count": 39,
   "metadata": {},
   "outputs": [
    {
     "name": "stdout",
     "output_type": "stream",
     "text": [
      "\n",
      "Model Report\n",
      "Accuracy : 0.8359\n",
      "AUC Score (Train): 0.912619\n",
      "CV Score : Mean - 0.8346366 | Std - 0.03242562 | Min - 0.7892593 | Max - 0.8864151\n"
     ]
    },
    {
     "data": {
      "image/png": "[encoded data removed]",
      "text/plain": [
       "<matplotlib.figure.Figure at 0x197b7a42dd8>"
      ]
     },
     "metadata": {},
     "output_type": "display_data"
    }
   ],
   "source": [
    "predictors = df.columns.values[:8]\n",
    "gbm_tuned_4 = GradientBoostingClassifier(learning_rate=0.005, n_estimators=1500,max_depth=7, min_samples_split=200, \n",
    "                                         min_samples_leaf=60, subsample=0.8, random_state=10, max_features=5)\n",
    "\n",
    "\n",
    "\n",
    "modelfit(gbm_tuned_4, df, predictors)"
   ]
  },
  {
   "cell_type": "code",
   "execution_count": 55,
   "metadata": {},
   "outputs": [
    {
     "name": "stdout",
     "output_type": "stream",
     "text": [
      "\n",
      "Model Report\n",
      "Accuracy : 1\n",
      "AUC Score (Train): 1.000000\n",
      "CV Score : Mean - 0.80929 | Std - 0.03716774 | Min - 0.7633333 | Max - 0.8764151\n"
     ]
    },
    {
     "data": {
      "image/png": "[encoded data removed]",
      "text/plain": [
       "<matplotlib.figure.Figure at 0x23608950438>"
      ]
     },
     "metadata": {},
     "output_type": "display_data"
    }
   ],
   "source": [
    "#Please note that all the above are just initial estimates and will be tuned later\n",
    "#so we can do a lot better with tuning\n",
    "\n",
    "predictors = df.columns.values[:8]\n",
    "gbm01 = GradientBoostingClassifier(learning_rate=0.1,\n",
    "                                   n_estimators=60,\n",
    "                                   max_depth=9,\n",
    "                                   subsample=0.8,\n",
    "                                   random_state=10)\n",
    "modelfit(gbm01, df, predictors)\n",
    "\n"
   ]
  },
  {
   "cell_type": "code",
   "execution_count": 56,
   "metadata": {},
   "outputs": [],
   "source": [
    "import pandas as pd\n",
    "import numpy as np\n",
    "\n",
    "# Bagged Decision Trees for Classification\n",
    "from sklearn.ensemble import AdaBoostClassifier\n",
    "from sklearn.tree import DecisionTreeClassifier\n",
    "from sklearn import preprocessing\n",
    "from sklearn.model_selection import cross_val_score\n",
    "from sklearn import metrics\n",
    "\n",
    "from sklearn.model_selection import train_test_split\n"
   ]
  },
  {
   "cell_type": "code",
   "execution_count": 58,
   "metadata": {},
   "outputs": [],
   "source": [
    "#build a quick logistic regression model and check the accuracy\n",
    "\n",
    "X = df.iloc[:,:8] # independent variables\n",
    "y = df['Outcome'] # dependent variables"
   ]
  },
  {
   "cell_type": "code",
   "execution_count": 59,
   "metadata": {},
   "outputs": [],
   "source": [
    "#Normalize\n",
    "X = preprocessing.StandardScaler().fit_transform(X)"
   ]
  },
  {
   "cell_type": "code",
   "execution_count": 60,
   "metadata": {},
   "outputs": [],
   "source": [
    "# evaluate the model by splitting into train and test sets\n",
    "X_train, X_test, y_train, y_test = train_test_split(X, y, test_size=0.2,random_state=0)"
   ]
  },
  {
   "cell_type": "code",
   "execution_count": 61,
   "metadata": {},
   "outputs": [],
   "source": [
    "import sklearn.cross_validation as cross_validation\n",
    "kfold = cross_validation.StratifiedKFold(y = y_train, n_folds=5, random_state=2017)"
   ]
  },
  {
   "cell_type": "code",
   "execution_count": 62,
   "metadata": {},
   "outputs": [
    {
     "name": "stdout",
     "output_type": "stream",
     "text": [
      "Decision Tree (stand alone) - Train :  0.698752327026\n",
      "Decision Tree (stand alone) - Test :  0.720779220779\n"
     ]
    }
   ],
   "source": [
    "num_trees = 100\n",
    "# Dection Tree with 5 fold cross validation\n",
    "# lets restrict max_depth to 3 to have more impure leaves\n",
    "clf_DT = DecisionTreeClassifier(max_depth=1, random_state=2017).fit(X_train,y_train)\n",
    "results = cross_validation.cross_val_score(clf_DT, X_train,y_train,cv=kfold)\n",
    "print (\"Decision Tree (stand alone) - Train : \", results.mean())\n",
    "print (\"Decision Tree (stand alone) - Test : \", metrics.accuracy_score(clf_DT.predict(X_test), y_test))"
   ]
  },
  {
   "cell_type": "markdown",
   "metadata": {},
   "source": [
    "## Comparison with decision tree (stand alone) and AdaBoost "
   ]
  },
  {
   "cell_type": "code",
   "execution_count": 63,
   "metadata": {},
   "outputs": [
    {
     "name": "stdout",
     "output_type": "stream",
     "text": [
      "Decision Tree (AdaBoosting) - Train :  0.755730181046\n",
      "Decision Tree (AdaBoosting) - Test :  0.798701298701\n"
     ]
    }
   ],
   "source": [
    "# Using Adaptive Boosting of 100 iteration\n",
    "clf_DT_Boost = AdaBoostClassifier(base_estimator=clf_DT, n_estimators=num_trees, \n",
    "                                  learning_rate=0.1, random_state=2017).fit(X_train,y_train)\n",
    "results = cross_validation.cross_val_score(clf_DT_Boost, X_train, y_train,\n",
    "cv=kfold)\n",
    "print (\"Decision Tree (AdaBoosting) - Train : \", results.mean())\n",
    "print (\"Decision Tree (AdaBoosting) - Test : \", metrics.accuracy_score(clf_DT_Boost.predict(X_test), y_test))"
   ]
  },
  {
   "cell_type": "markdown",
   "metadata": {},
   "source": [
    "\n",
    "\n",
    "\n",
    "\n",
    "## Boosting Algorithm: AdaBoost"
   ]
  },
  {
   "cell_type": "code",
   "execution_count": null,
   "metadata": {},
   "outputs": [],
   "source": [
    "from sklearn.ensemble import AdaBoostClassifier #For Classification\n",
    "from sklearn.ensemble import AdaBoostRegressor #For Regression\n",
    "from sklearn.tree import DecisionTreeClassifier\n",
    "dt = DecisionTreeClassifier() \n",
    "clf = AdaBoostClassifier(n_estimators=100, base_estimator=dt,learning_rate=1)\n",
    "#Above I have used decision tree as a base estimator, you can use any ML learner as base estimator if it ac# cepts sample weight \n",
    "clf.fit(x_train,y_train)"
   ]
  },
  {
   "cell_type": "markdown",
   "metadata": {},
   "source": [
    "You can tune the parameters to optimize the performance of algorithms, I’ve mentioned below the key parameters for tuning:\n",
    "\n",
    "n_estimators: It controls the number of weak learners.\n",
    "learning_rate:Controls the contribution of weak learners in the final combination. There is a trade-off between learning_rate and n_estimators.\n",
    "base_estimators: It helps to specify different ML algorithm.\n",
    "You can also tune the parameters of base learners to optimize its performance."
   ]
  }
 ],
 "metadata": {
  "kernelspec": {
   "display_name": "Python [conda root]",
   "language": "python",
   "name": "conda-root-py"
  },
  "language_info": {
   "codemirror_mode": {
    "name": "ipython",
    "version": 3
   },
   "file_extension": ".py",
   "mimetype": "text/x-python",
   "name": "python",
   "nbconvert_exporter": "python",
   "pygments_lexer": "ipython3",
   "version": "3.6.1"
  }
 },
 "nbformat": 4,
 "nbformat_minor": 2
}
